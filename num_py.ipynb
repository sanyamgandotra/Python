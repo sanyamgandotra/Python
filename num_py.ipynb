{
 "cells": [
  {
   "cell_type": "code",
   "execution_count": 1,
   "id": "3f92e15a-9028-4d91-a7bd-e7a6e5388e38",
   "metadata": {
    "tags": []
   },
   "outputs": [],
   "source": [
    "import numpy as np\n",
    "import sys"
   ]
  },
  {
   "cell_type": "markdown",
   "id": "49d24773-dbfc-4d13-89b5-23417507a04e",
   "metadata": {},
   "source": [
    "The Basics"
   ]
  },
  {
   "cell_type": "code",
   "execution_count": 2,
   "id": "14c209cb-8847-42be-aaf6-b85fc2130b92",
   "metadata": {},
   "outputs": [
    {
     "name": "stdout",
     "output_type": "stream",
     "text": [
      "[1 2 3]\n"
     ]
    }
   ],
   "source": [
    "a = np.array([1,2,3], dtype='int32')\n",
    "print(a)"
   ]
  },
  {
   "cell_type": "code",
   "execution_count": 3,
   "id": "ce6f3f27-b1fc-436f-954a-e7bf64de48ea",
   "metadata": {},
   "outputs": [
    {
     "name": "stdout",
     "output_type": "stream",
     "text": [
      "[[9. 8. 7.]\n",
      " [6. 5. 4.]]\n"
     ]
    }
   ],
   "source": [
    "b = np.array([[9.0,8.0,7.0],[6.0,5.0,4.0]])\n",
    "print(b)"
   ]
  },
  {
   "cell_type": "code",
   "execution_count": 4,
   "id": "1bfe7585-f769-4028-a8fc-6bb52ff1139e",
   "metadata": {},
   "outputs": [
    {
     "data": {
      "text/plain": [
       "1"
      ]
     },
     "execution_count": 4,
     "metadata": {},
     "output_type": "execute_result"
    }
   ],
   "source": [
    "# Get Dimension\n",
    "a.ndim"
   ]
  },
  {
   "cell_type": "code",
   "execution_count": 5,
   "id": "81924481-b12c-4e3c-92c8-491a791f5828",
   "metadata": {},
   "outputs": [
    {
     "data": {
      "text/plain": [
       "array(['1', '2', '3', '4'], dtype='<U1')"
      ]
     },
     "execution_count": 5,
     "metadata": {},
     "output_type": "execute_result"
    }
   ],
   "source": [
    "np.array([1,2,3,4], dtype=\"str\")"
   ]
  },
  {
   "cell_type": "code",
   "execution_count": 6,
   "id": "1c27db3d-22b7-4db7-af42-59c3cc086015",
   "metadata": {},
   "outputs": [
    {
     "data": {
      "text/plain": [
       "array([1., 2., 3., 4., 5.], dtype=float32)"
      ]
     },
     "execution_count": 6,
     "metadata": {},
     "output_type": "execute_result"
    }
   ],
   "source": [
    "np.array([1,2,3,4,5], dtype= 'float32')"
   ]
  },
  {
   "cell_type": "code",
   "execution_count": 7,
   "id": "cbe31074-cbd4-4d2e-af82-5eb6d27a3edf",
   "metadata": {},
   "outputs": [
    {
     "data": {
      "text/plain": [
       "array([[ 2,  3,  4,  5],\n",
       "       [ 4,  5,  6,  7],\n",
       "       [ 6,  7,  8,  9],\n",
       "       [10, 11, 12, 13]])"
      ]
     },
     "execution_count": 7,
     "metadata": {},
     "output_type": "execute_result"
    }
   ],
   "source": [
    "# nested lists result in multidimensional arrays\n",
    "\n",
    "np.array([range(i,i+4) for i in [2,4,6,10]])"
   ]
  },
  {
   "cell_type": "code",
   "execution_count": 8,
   "id": "1786b2c4-a192-42bc-9c0f-9ff6ce4f7205",
   "metadata": {},
   "outputs": [
    {
     "name": "stdout",
     "output_type": "stream",
     "text": [
      "[[[10 11 12]\n",
      "  [12 13 14]\n",
      "  [14 15 16]]\n",
      "\n",
      " [[12 13 14]\n",
      "  [14 15 16]\n",
      "  [16 17 18]]\n",
      "\n",
      " [[14 15 16]\n",
      "  [16 17 18]\n",
      "  [18 19 20]]]\n",
      "\n",
      "Shape of the 3D array: (3, 3, 3)\n"
     ]
    }
   ],
   "source": [
    "# Define the ranges for i and z\n",
    "i_values = [2, 4, 6]\n",
    "z_values = [8, 10, 12]\n",
    "\n",
    "# Generate a 3D array using nested list comprehensions\n",
    "# For each 'i', we create a 2D array (slice)\n",
    "# For each 'z' within 'i', we create a row\n",
    "# The innermost 'range' creates the elements of the row\n",
    "three_d_array = np.array([\n",
    "    [list(range(i + z, i + z + 3)) for z in z_values]\n",
    "    for i in i_values\n",
    "])\n",
    "\n",
    "print(three_d_array)\n",
    "print(\"\\nShape of the 3D array:\", three_d_array.shape)"
   ]
  },
  {
   "cell_type": "code",
   "execution_count": 9,
   "id": "5e0a2592-8863-4139-a317-562c4591ce99",
   "metadata": {},
   "outputs": [
    {
     "data": {
      "text/plain": [
       "array([0, 0, 0, 0, 0, 0, 0, 0, 0, 0])"
      ]
     },
     "execution_count": 9,
     "metadata": {},
     "output_type": "execute_result"
    }
   ],
   "source": [
    "# Create a length-10 integer array filled with zeros\n",
    "\n",
    "np.zeros(10, dtype=\"int\") "
   ]
  },
  {
   "cell_type": "code",
   "execution_count": 10,
   "id": "2591ff81-dd02-4f98-bb47-4e8b3e9183e4",
   "metadata": {},
   "outputs": [
    {
     "data": {
      "text/plain": [
       "array([[0, 0, 0, 0, 0, 0],\n",
       "       [0, 0, 0, 0, 0, 0],\n",
       "       [0, 0, 0, 0, 0, 0],\n",
       "       [0, 0, 0, 0, 0, 0],\n",
       "       [0, 0, 0, 0, 0, 0],\n",
       "       [0, 0, 0, 0, 0, 0]])"
      ]
     },
     "execution_count": 10,
     "metadata": {},
     "output_type": "execute_result"
    }
   ],
   "source": [
    "np.zeros((6,6), dtype='int')"
   ]
  },
  {
   "cell_type": "code",
   "execution_count": 11,
   "id": "cd648530-837a-42b4-af6b-29d277eb7dcd",
   "metadata": {},
   "outputs": [
    {
     "data": {
      "text/plain": [
       "array([[1., 1., 1., 1., 1.],\n",
       "       [1., 1., 1., 1., 1.],\n",
       "       [1., 1., 1., 1., 1.]])"
      ]
     },
     "execution_count": 11,
     "metadata": {},
     "output_type": "execute_result"
    }
   ],
   "source": [
    "# Create a 3x5 floating-point array filled with 1s\n",
    "np.ones((3,5), dtype='float')"
   ]
  },
  {
   "cell_type": "code",
   "execution_count": 12,
   "id": "0e182334-1504-4e9c-9553-b6f31dc2867f",
   "metadata": {},
   "outputs": [
    {
     "data": {
      "text/plain": [
       "array([[3.14, 3.14, 3.14, 3.14, 3.14],\n",
       "       [3.14, 3.14, 3.14, 3.14, 3.14],\n",
       "       [3.14, 3.14, 3.14, 3.14, 3.14]])"
      ]
     },
     "execution_count": 12,
     "metadata": {},
     "output_type": "execute_result"
    }
   ],
   "source": [
    "# Create a 3x5 array filled with 3.14\n",
    "np.full((3,5),3.14)"
   ]
  },
  {
   "cell_type": "code",
   "execution_count": 13,
   "id": "4a54bbeb-0628-4f20-ad80-e3fa501fb525",
   "metadata": {},
   "outputs": [
    {
     "data": {
      "text/plain": [
       "array([ 0,  2,  4,  6,  8, 10, 12, 14, 16, 18])"
      ]
     },
     "execution_count": 13,
     "metadata": {},
     "output_type": "execute_result"
    }
   ],
   "source": [
    "# Create an array filled with a linear sequence\n",
    "# Starting at 0, ending at 20, stepping by 2\n",
    "# (this is similar to the built-in range() function)\n",
    "np.arange(0, 20, 2)"
   ]
  },
  {
   "cell_type": "code",
   "execution_count": 14,
   "id": "fec8de58-60a3-48f2-a9dd-73749cfa2aa8",
   "metadata": {},
   "outputs": [
    {
     "name": "stdout",
     "output_type": "stream",
     "text": [
      "[0.         0.34920635 0.6984127  1.04761905 1.3968254  1.74603175\n",
      " 2.0952381  2.44444444 2.79365079 3.14285714]\n",
      "[0.   0.25 0.5  0.75 1.  ]\n",
      "[0 0 0 0 1]\n"
     ]
    }
   ],
   "source": [
    "# Create an array of five values evenly spaced between 0 and 1\n",
    "\n",
    "print(np.linspace(0, 22/7, 10))\n",
    "print(np.linspace(0, 1, 5))\n",
    "print(np.linspace(0, 1, 5, dtype = 'int'))"
   ]
  },
  {
   "cell_type": "code",
   "execution_count": 15,
   "id": "26a8a0dd-49d8-4f2b-8c98-200677a655cf",
   "metadata": {},
   "outputs": [
    {
     "name": "stdout",
     "output_type": "stream",
     "text": [
      "[[0.18413444 0.49721315 0.06981932]\n",
      " [0.22465577 0.57846681 0.03386414]\n",
      " [0.55009654 0.30890574 0.65811335]]\n",
      "[[1 7 6]\n",
      " [5 9 4]\n",
      " [2 8 7]]\n"
     ]
    }
   ],
   "source": [
    "# Create a 3x3 array of uniformly distributed\n",
    "# random values between 0 and 1\n",
    "print(np.random.random((3,3)))\n",
    "print(np.random.randint(0, 10, size= (3,3)))"
   ]
  },
  {
   "cell_type": "code",
   "execution_count": 16,
   "id": "54da5e7b-b862-484a-a678-a5ccd2a6fb58",
   "metadata": {},
   "outputs": [
    {
     "data": {
      "text/plain": [
       "array([[58, 63, 58, 50],\n",
       "       [51, 63, 67, 81],\n",
       "       [55, 58, 58, 97],\n",
       "       [92, 55, 94, 54]])"
      ]
     },
     "execution_count": 16,
     "metadata": {},
     "output_type": "execute_result"
    }
   ],
   "source": [
    "np.random.randint(50, 99, (4,4))"
   ]
  },
  {
   "cell_type": "code",
   "execution_count": 17,
   "id": "7ddbb97b-27f5-45f2-9bd9-946b21c313a6",
   "metadata": {},
   "outputs": [
    {
     "data": {
      "text/plain": [
       "array([[-0.89016652,  0.34842059, -0.18844862],\n",
       "       [ 0.58602417,  0.365884  , -0.33764495],\n",
       "       [ 1.10621817,  0.07076411, -1.33242767]])"
      ]
     },
     "execution_count": 17,
     "metadata": {},
     "output_type": "execute_result"
    }
   ],
   "source": [
    "# Create a 3x3 array of normally distributed random values\n",
    "# with mean 0 and standard deviation 1\n",
    "\n",
    "np.random.normal(0,1,(3,3))"
   ]
  },
  {
   "cell_type": "code",
   "execution_count": 18,
   "id": "6ff3c9d5-e2bb-4401-9054-c01fe0206a9b",
   "metadata": {},
   "outputs": [
    {
     "data": {
      "text/plain": [
       "array([[9, 1, 9],\n",
       "       [6, 8, 2],\n",
       "       [4, 8, 1]])"
      ]
     },
     "execution_count": 18,
     "metadata": {},
     "output_type": "execute_result"
    }
   ],
   "source": [
    "# Create a 3x3 array of random integers in the interval [0, 10)\n",
    "\n",
    "np.random.randint(0,10,(3,3))"
   ]
  },
  {
   "cell_type": "code",
   "execution_count": 19,
   "id": "c971cd03-8f7c-4b51-94ac-885e2cb472b7",
   "metadata": {},
   "outputs": [
    {
     "data": {
      "text/plain": [
       "array([[1., 0., 0.],\n",
       "       [0., 1., 0.],\n",
       "       [0., 0., 1.]])"
      ]
     },
     "execution_count": 19,
     "metadata": {},
     "output_type": "execute_result"
    }
   ],
   "source": [
    "np.identity(3)"
   ]
  },
  {
   "cell_type": "code",
   "execution_count": 20,
   "id": "279630b0-7670-4fd7-8c31-c332a3df610d",
   "metadata": {},
   "outputs": [
    {
     "data": {
      "text/plain": [
       "array([[1., 0., 0.],\n",
       "       [0., 1., 0.],\n",
       "       [0., 0., 1.]])"
      ]
     },
     "execution_count": 20,
     "metadata": {},
     "output_type": "execute_result"
    }
   ],
   "source": [
    "# Create a 3x3 identity matrix\n",
    "\n",
    "np.eye(3)"
   ]
  },
  {
   "cell_type": "markdown",
   "id": "436b6db7-46b3-4dba-ae58-e473afdbc591",
   "metadata": {},
   "source": [
    "\"\"\"\"NumPy Standard Data Types\"\"\""
   ]
  },
  {
   "cell_type": "code",
   "execution_count": 21,
   "id": "8b563cbf-2299-4201-92cb-317e6a070483",
   "metadata": {},
   "outputs": [
    {
     "data": {
      "text/plain": [
       "array([[4607182418800017408,                   0,                   0],\n",
       "       [                  0, 4607182418800017408,                   0],\n",
       "       [                  0,                   0, 4607182418800017408]])"
      ]
     },
     "execution_count": 21,
     "metadata": {},
     "output_type": "execute_result"
    }
   ],
   "source": [
    "#Return a new array of given shape and type, with random values\n",
    "\n",
    "np.empty((3,3),dtype=\"int\")"
   ]
  },
  {
   "cell_type": "code",
   "execution_count": 22,
   "id": "43e7df7b-6331-40d2-8878-eea5a4696c65",
   "metadata": {},
   "outputs": [
    {
     "data": {
      "text/plain": [
       "array([0, 0, 0, 0, 0, 0, 0, 0, 0, 0], dtype=int16)"
      ]
     },
     "execution_count": 22,
     "metadata": {},
     "output_type": "execute_result"
    }
   ],
   "source": [
    "np.zeros((10),dtype=\"int16\")"
   ]
  },
  {
   "cell_type": "code",
   "execution_count": 23,
   "id": "194aeeb9-c602-4465-9d53-4684447782ef",
   "metadata": {},
   "outputs": [
    {
     "data": {
      "text/plain": [
       "array([0, 0, 0, 0, 0, 0, 0, 0, 0, 0], dtype=int16)"
      ]
     },
     "execution_count": 23,
     "metadata": {},
     "output_type": "execute_result"
    }
   ],
   "source": [
    "#or using the associated NumPy object:\n",
    "\n",
    "np.zeros(10,dtype=np.int16)"
   ]
  },
  {
   "attachments": {
    "a7cf0fb1-ef62-4d57-90ef-5612b17c91a0.png": {
     "image/png": "[encoded data removed]"
    }
   },
   "cell_type": "markdown",
   "id": "08bcf652-daa8-4968-a741-9fa0e33a229d",
   "metadata": {},
   "source": [
    "![4212_t2-1.png](attachment:a7cf0fb1-ef62-4d57-90ef-5612b17c91a0.png)"
   ]
  },
  {
   "cell_type": "markdown",
   "id": "f0259cc3-29d8-487b-9cf5-165c1b077fd4",
   "metadata": {},
   "source": [
    "The Basics of NumPy Arrays¶\n",
    "\n",
    "We’ll cover a few categories of basic array manipulations here:\n",
    "Attributes of arrays\n",
    "Determining the size, shape, memory consumption, and data types of arrays\n",
    "Indexing of arrays\n",
    "Getting and setting the value of individual array elements\n",
    "Slicing of arrays\n",
    "Getting and setting smaller subarrays within a larger array\n",
    "Reshaping of arrays\n",
    "Changing the shape of a given array\n",
    "Joining and splitting of arrays\n",
    "Combining multiple arrays into one, and splitting one array into many\n",
    "\n",
    "\n",
    "NumPy Array Attributes"
   ]
  },
  {
   "cell_type": "code",
   "execution_count": 24,
   "id": "112ad2e3-87e9-4360-976f-577d7110730b",
   "metadata": {},
   "outputs": [
    {
     "name": "stdout",
     "output_type": "stream",
     "text": [
      "[5 0 3 3 7 9]\n"
     ]
    }
   ],
   "source": [
    "#NumPy Array Attributes\n",
    "#We’ll use NumPy’s random number generator, which we will seed with a set value in order to ensure that the same random arrays are generated each time this code is run:\n",
    "\n",
    "np.random.seed(0) # seed for reproducibility\n",
    "x1 = np.random.randint(10, size=6) # One-dimensional array\n",
    "print(x1)"
   ]
  },
  {
   "cell_type": "code",
   "execution_count": 25,
   "id": "1780b0ce-3269-4499-aeca-5c8a1c39d32e",
   "metadata": {},
   "outputs": [
    {
     "name": "stdout",
     "output_type": "stream",
     "text": [
      "x1 ndim:  1\n",
      "x1 shape:  (6,)\n",
      "x1 size:  6\n",
      "x1 ndim:  2\n",
      "x1 shape:  (3, 4)\n",
      "x1 size:  12\n",
      "x1 ndim:  3\n",
      "x1 shape:  (3, 4, 5)\n",
      "x1 size:  60\n",
      "dtype:  int64\n",
      "itemsize: 8 bytes\n",
      "nbytes: 48 bytes\n",
      "dtype:  int64\n",
      "itemsize: 8 bytes\n",
      "nbytes: 96 bytes\n",
      "dtype:  int64\n",
      "itemsize: 8 bytes\n",
      "nbytes: 480 bytes\n"
     ]
    }
   ],
   "source": [
    "#Each array has attributes ndim (the number of dimensions), shape (the size of each dimension), and size (the total size of the array):\n",
    "\n",
    "np.random.seed(0) # seed for reproducibility\n",
    "x1 = np.random.randint(10, size=6) #it's same ((np.random.randint((0,10), size=6))) # One-dimensional array\n",
    "x2 = np.random.randint(10, size=(3,4)) # Two-dimensional array\n",
    "x3 = np.random.randint(10, size=(3,4,5)) # Three-dimensional array\n",
    "\n",
    "print(\"x1 ndim: \",x1.ndim)\n",
    "print(\"x1 shape: \",x1.shape)\n",
    "print(\"x1 size: \",x1.size) #totaly,6 elements\n",
    "\n",
    "print(\"x1 ndim: \",x2.ndim)\n",
    "print(\"x1 shape: \",x2.shape)\n",
    "print(\"x1 size: \",x2.size) #totaly,12 elements\n",
    "\n",
    "print(\"x1 ndim: \",x3.ndim)\n",
    "print(\"x1 shape: \",x3.shape)\n",
    "print(\"x1 size: \",x3.size)#totaly,60 elements\n",
    "\n",
    "print(\"dtype: \",x1.dtype) #the data type of the array\n",
    "# Other attributes include itemsize, which lists the size (in bytes) of each array element,\n",
    "# and nbytes, which lists the total size (in bytes) of the array:\n",
    "print(\"itemsize:\",x1.itemsize,\"bytes\")\n",
    "print(\"nbytes:\",x1.nbytes,\"bytes\")\n",
    "\n",
    "print(\"dtype: \",x2.dtype) #the data type of the array\n",
    "print(\"itemsize:\",x2.itemsize,\"bytes\")\n",
    "print(\"nbytes:\",x2.nbytes,\"bytes\")\n",
    "\n",
    "print(\"dtype: \",x3.dtype) #the data type of the array\n",
    "print(\"itemsize:\",x3.itemsize,\"bytes\")\n",
    "print(\"nbytes:\",x3.nbytes,\"bytes\") \n",
    "\n",
    "#In general, we expect that nbytes is equal to itemsize times size."
   ]
  },
  {
   "cell_type": "code",
   "execution_count": 26,
   "id": "6ff3bd86-5825-4298-b9a9-d01e17e6e490",
   "metadata": {},
   "outputs": [
    {
     "data": {
      "text/plain": [
       "array([5, 0, 3, 3, 7, 9])"
      ]
     },
     "execution_count": 26,
     "metadata": {},
     "output_type": "execute_result"
    }
   ],
   "source": [
    "x1"
   ]
  },
  {
   "cell_type": "code",
   "execution_count": 27,
   "id": "52b3f7a2-9a13-4b51-8b3c-e025e74a5483",
   "metadata": {},
   "outputs": [
    {
     "data": {
      "text/plain": [
       "np.int64(5)"
      ]
     },
     "execution_count": 27,
     "metadata": {},
     "output_type": "execute_result"
    }
   ],
   "source": [
    "x1[0]"
   ]
  },
  {
   "cell_type": "code",
   "execution_count": 28,
   "id": "ae27bf1f-0175-434c-86ce-7d4e5e476fa3",
   "metadata": {},
   "outputs": [
    {
     "data": {
      "text/plain": [
       "np.int64(7)"
      ]
     },
     "execution_count": 28,
     "metadata": {},
     "output_type": "execute_result"
    }
   ],
   "source": [
    "x1[4]"
   ]
  },
  {
   "cell_type": "code",
   "execution_count": 29,
   "id": "268bf08b-6b42-4136-887a-6aa927ce2c06",
   "metadata": {},
   "outputs": [
    {
     "data": {
      "text/plain": [
       "np.int64(9)"
      ]
     },
     "execution_count": 29,
     "metadata": {},
     "output_type": "execute_result"
    }
   ],
   "source": [
    "x1[-1]"
   ]
  },
  {
   "cell_type": "code",
   "execution_count": 30,
   "id": "c3729d53-9479-4c41-b237-743489c6d520",
   "metadata": {},
   "outputs": [
    {
     "data": {
      "text/plain": [
       "np.int64(7)"
      ]
     },
     "execution_count": 30,
     "metadata": {},
     "output_type": "execute_result"
    }
   ],
   "source": [
    "x1[-2]"
   ]
  },
  {
   "cell_type": "code",
   "execution_count": 31,
   "id": "e97239c1-5e10-4e22-80ed-b8bd4eb6ec24",
   "metadata": {},
   "outputs": [
    {
     "data": {
      "text/plain": [
       "array([[3, 5, 2, 4],\n",
       "       [7, 6, 8, 8],\n",
       "       [1, 6, 7, 7]])"
      ]
     },
     "execution_count": 31,
     "metadata": {},
     "output_type": "execute_result"
    }
   ],
   "source": [
    "x2"
   ]
  },
  {
   "cell_type": "code",
   "execution_count": 32,
   "id": "26f07e1c-f16d-412f-bffc-30a586b09297",
   "metadata": {},
   "outputs": [
    {
     "data": {
      "text/plain": [
       "np.int64(8)"
      ]
     },
     "execution_count": 32,
     "metadata": {},
     "output_type": "execute_result"
    }
   ],
   "source": [
    "x2[1,2]"
   ]
  },
  {
   "cell_type": "code",
   "execution_count": 33,
   "id": "39280c3c-278e-4561-8cc5-687bc9beda96",
   "metadata": {},
   "outputs": [
    {
     "data": {
      "text/plain": [
       "np.int64(7)"
      ]
     },
     "execution_count": 33,
     "metadata": {},
     "output_type": "execute_result"
    }
   ],
   "source": [
    "x2[-1,-1]"
   ]
  },
  {
   "cell_type": "code",
   "execution_count": 34,
   "id": "5e46c33b-ec58-47a7-b813-c531c7170582",
   "metadata": {},
   "outputs": [
    {
     "data": {
      "text/plain": [
       "np.int64(7)"
      ]
     },
     "execution_count": 34,
     "metadata": {},
     "output_type": "execute_result"
    }
   ],
   "source": [
    "x2[-1,-2]"
   ]
  },
  {
   "cell_type": "code",
   "execution_count": 35,
   "id": "cfe59856-a1d9-4584-8c8b-5c52fff5fee5",
   "metadata": {},
   "outputs": [
    {
     "data": {
      "text/plain": [
       "array([[12,  5,  2,  4],\n",
       "       [ 7,  6,  8,  8],\n",
       "       [ 1,  6,  7,  7]])"
      ]
     },
     "execution_count": 35,
     "metadata": {},
     "output_type": "execute_result"
    }
   ],
   "source": [
    "#You can also modify values using any of the above index notation:\n",
    "\n",
    "x2[0,0]=12\n",
    "x2"
   ]
  },
  {
   "cell_type": "code",
   "execution_count": 36,
   "id": "63456531-2821-4a9a-bb24-999077f78c72",
   "metadata": {},
   "outputs": [
    {
     "data": {
      "text/plain": [
       "array([5, 0, 3, 3, 7, 9])"
      ]
     },
     "execution_count": 36,
     "metadata": {},
     "output_type": "execute_result"
    }
   ],
   "source": [
    "x1"
   ]
  },
  {
   "cell_type": "code",
   "execution_count": 37,
   "id": "c9def6c8-dc69-4d61-befe-d1371510291e",
   "metadata": {},
   "outputs": [
    {
     "data": {
      "text/plain": [
       "array([3, 0, 3, 3, 7, 9])"
      ]
     },
     "execution_count": 37,
     "metadata": {},
     "output_type": "execute_result"
    }
   ],
   "source": [
    "x1[0] = 3.14159 # this will be truncated! RANDINT used\n",
    "x1"
   ]
  },
  {
   "cell_type": "markdown",
   "id": "6387a1e4-1663-4e70-ba14-876d01ee439c",
   "metadata": {},
   "source": [
    "Array Slicing: Accessing Subarrays¶\n",
    "\n",
    "Just as we can use square brackets to access individual array elements, we can also use them to access subarrays with the slice notation, marked by the colon (:) character. The NumPy slicing syntax follows that of the standard Python list; to access a slice of an array x, use this:\n",
    "x[start:stop:step]\n",
    "If any of these are unspecified, they default to the values start=0, stop=size of dimension, step=1. We’ll take a look at accessing subarrays in one dimension and in multiple dimensions."
   ]
  },
  {
   "cell_type": "code",
   "execution_count": 38,
   "id": "83150312-c95a-42ad-a3e2-a1e959f690ae",
   "metadata": {},
   "outputs": [
    {
     "data": {
      "text/plain": [
       "array([0, 1, 2, 3, 4, 5, 6, 7, 8, 9])"
      ]
     },
     "execution_count": 38,
     "metadata": {},
     "output_type": "execute_result"
    }
   ],
   "source": [
    "x = np.arange(10)\n",
    "x"
   ]
  },
  {
   "cell_type": "code",
   "execution_count": 39,
   "id": "7c3093df-100b-45f1-a1ea-66dec3aa3200",
   "metadata": {},
   "outputs": [
    {
     "data": {
      "text/plain": [
       "array([0, 1, 2, 3, 4])"
      ]
     },
     "execution_count": 39,
     "metadata": {},
     "output_type": "execute_result"
    }
   ],
   "source": [
    "x[:5] # first five elements"
   ]
  },
  {
   "cell_type": "code",
   "execution_count": 40,
   "id": "87ce71dc-2cdf-4313-96fb-ba763a352d4e",
   "metadata": {},
   "outputs": [
    {
     "data": {
      "text/plain": [
       "array([5, 6, 7, 8, 9])"
      ]
     },
     "execution_count": 40,
     "metadata": {},
     "output_type": "execute_result"
    }
   ],
   "source": [
    "x[5:] # elements after index 5"
   ]
  },
  {
   "cell_type": "code",
   "execution_count": 41,
   "id": "72a63590-4921-47b3-b0cb-1ebc3c28b010",
   "metadata": {},
   "outputs": [
    {
     "data": {
      "text/plain": [
       "array([4, 5, 6])"
      ]
     },
     "execution_count": 41,
     "metadata": {},
     "output_type": "execute_result"
    }
   ],
   "source": [
    "x[4:7]# middle subarray"
   ]
  },
  {
   "cell_type": "code",
   "execution_count": 42,
   "id": "c2c4395b-4065-4969-9235-b0bb92689b07",
   "metadata": {},
   "outputs": [
    {
     "data": {
      "text/plain": [
       "array([0, 2, 4, 6, 8])"
      ]
     },
     "execution_count": 42,
     "metadata": {},
     "output_type": "execute_result"
    }
   ],
   "source": [
    "x[::2] # every other element"
   ]
  },
  {
   "cell_type": "code",
   "execution_count": 43,
   "id": "36bb82e1-cedc-4054-b503-98aed608c048",
   "metadata": {},
   "outputs": [
    {
     "data": {
      "text/plain": [
       "array([1, 3, 5, 7, 9])"
      ]
     },
     "execution_count": 43,
     "metadata": {},
     "output_type": "execute_result"
    }
   ],
   "source": [
    "x[1::2] #every other element, starting at index 1"
   ]
  },
  {
   "cell_type": "code",
   "execution_count": 44,
   "id": "7325fb77-36cf-4e13-8b3c-74911fb4f8c3",
   "metadata": {},
   "outputs": [
    {
     "data": {
      "text/plain": [
       "array([3, 5, 7])"
      ]
     },
     "execution_count": 44,
     "metadata": {},
     "output_type": "execute_result"
    }
   ],
   "source": [
    "x[-7:-2:2]"
   ]
  },
  {
   "cell_type": "code",
   "execution_count": 45,
   "id": "b8742084-a31f-4557-b7a4-bea0c470ae69",
   "metadata": {},
   "outputs": [
    {
     "data": {
      "text/plain": [
       "array([6, 7])"
      ]
     },
     "execution_count": 45,
     "metadata": {},
     "output_type": "execute_result"
    }
   ],
   "source": [
    "x[-4:-2:1]"
   ]
  },
  {
   "cell_type": "code",
   "execution_count": 46,
   "id": "233d39a2-a3d0-4b82-a11a-7b24c22ad7f8",
   "metadata": {},
   "outputs": [
    {
     "data": {
      "text/plain": [
       "array([9, 8, 7, 6, 5, 4, 3, 2, 1, 0])"
      ]
     },
     "execution_count": 46,
     "metadata": {},
     "output_type": "execute_result"
    }
   ],
   "source": [
    "# A potentially confusing case is when the step value is negative. In this case, the\n",
    "# defaults for start and stop are swapped. This becomes a convenient way to reverse\n",
    "# an array:\n",
    "\n",
    "x[::-1] # all elements, reversed"
   ]
  },
  {
   "cell_type": "code",
   "execution_count": 47,
   "id": "972ca8b2-d481-47ab-85db-b64037f98a7d",
   "metadata": {},
   "outputs": [
    {
     "data": {
      "text/plain": [
       "array([5, 3, 1])"
      ]
     },
     "execution_count": 47,
     "metadata": {},
     "output_type": "execute_result"
    }
   ],
   "source": [
    "x[5::-2]# reversed every other from index 5"
   ]
  },
  {
   "cell_type": "code",
   "execution_count": 48,
   "id": "387ca1bc-e972-4e79-82c0-351d556b4a04",
   "metadata": {},
   "outputs": [
    {
     "data": {
      "text/plain": [
       "array([5, 3])"
      ]
     },
     "execution_count": 48,
     "metadata": {},
     "output_type": "execute_result"
    }
   ],
   "source": [
    "x[5:1:-2]"
   ]
  },
  {
   "cell_type": "code",
   "execution_count": 49,
   "id": "e0aa5f96-71ff-4a21-83e2-85d77a860b82",
   "metadata": {},
   "outputs": [
    {
     "data": {
      "text/plain": [
       "array([5, 4, 3])"
      ]
     },
     "execution_count": 49,
     "metadata": {},
     "output_type": "execute_result"
    }
   ],
   "source": [
    "x[5:-8:-1]"
   ]
  },
  {
   "cell_type": "code",
   "execution_count": 50,
   "id": "bc1b21ea-575c-43fc-8f5b-e78eee2ba0eb",
   "metadata": {},
   "outputs": [
    {
     "data": {
      "text/plain": [
       "array([7, 6, 5])"
      ]
     },
     "execution_count": 50,
     "metadata": {},
     "output_type": "execute_result"
    }
   ],
   "source": [
    "x[7:-6:-1]"
   ]
  },
  {
   "cell_type": "code",
   "execution_count": 51,
   "id": "8004c1b0-24a6-43a4-81fb-d48e02a5b366",
   "metadata": {},
   "outputs": [
    {
     "data": {
      "text/plain": [
       "array([3])"
      ]
     },
     "execution_count": 51,
     "metadata": {},
     "output_type": "execute_result"
    }
   ],
   "source": [
    "x[-7:-8:-1]"
   ]
  },
  {
   "cell_type": "markdown",
   "id": "806438d3-821a-4767-9c28-78d326f950a6",
   "metadata": {},
   "source": [
    "Multidimensional subarrays"
   ]
  },
  {
   "cell_type": "code",
   "execution_count": 52,
   "id": "d27aed21-fade-4d7e-99bf-2c44945a78e6",
   "metadata": {},
   "outputs": [
    {
     "data": {
      "text/plain": [
       "array([[12,  5,  2,  4],\n",
       "       [ 7,  6,  8,  8],\n",
       "       [ 1,  6,  7,  7]])"
      ]
     },
     "execution_count": 52,
     "metadata": {},
     "output_type": "execute_result"
    }
   ],
   "source": [
    "# Multidimensional slices work in the same way, with multiple slices separated by commas.\n",
    "# For example:\n",
    "\n",
    "x2"
   ]
  },
  {
   "cell_type": "code",
   "execution_count": 53,
   "id": "1b62ece3-0e2a-4f64-9d7d-b097c4cbb4c7",
   "metadata": {},
   "outputs": [
    {
     "data": {
      "text/plain": [
       "array([[12,  5,  2],\n",
       "       [ 7,  6,  8]])"
      ]
     },
     "execution_count": 53,
     "metadata": {},
     "output_type": "execute_result"
    }
   ],
   "source": [
    "# two rows, three columns\n",
    "\n",
    "x2[:2, :3]"
   ]
  },
  {
   "cell_type": "code",
   "execution_count": 54,
   "id": "9fa9c8d5-9539-4fef-8dc6-7be7908242f4",
   "metadata": {},
   "outputs": [
    {
     "data": {
      "text/plain": [
       "array([[12,  2],\n",
       "       [ 7,  8],\n",
       "       [ 1,  7]])"
      ]
     },
     "execution_count": 54,
     "metadata": {},
     "output_type": "execute_result"
    }
   ],
   "source": [
    "# all rows, every other column\n",
    "\n",
    "x2[:3,::2]"
   ]
  },
  {
   "cell_type": "code",
   "execution_count": 55,
   "id": "45abd9b3-12d9-4fdb-b951-3bd39a9ebd37",
   "metadata": {},
   "outputs": [
    {
     "data": {
      "text/plain": [
       "array([[ 7,  7,  6,  1],\n",
       "       [ 8,  8,  6,  7],\n",
       "       [ 4,  2,  5, 12]])"
      ]
     },
     "execution_count": 55,
     "metadata": {},
     "output_type": "execute_result"
    }
   ],
   "source": [
    "#Finally, subarray dimensions can even be reversed together:\n",
    "\n",
    "x2[::-1,::-1]\n"
   ]
  },
  {
   "cell_type": "markdown",
   "id": "7249040b-f8d8-40ef-9515-16d1055ccf3e",
   "metadata": {},
   "source": [
    "Accessing array rows and columns"
   ]
  },
  {
   "cell_type": "code",
   "execution_count": 56,
   "id": "2f280b7f-3335-4183-bb01-1e25e1a14db1",
   "metadata": {},
   "outputs": [
    {
     "name": "stdout",
     "output_type": "stream",
     "text": [
      "[12  7  1]\n"
     ]
    }
   ],
   "source": [
    "# One commonly needed routine is accessing single\n",
    "# rows or columns of an array. You can do this by combining indexing and slicing,\n",
    "# using an empty slice marked by a single colon (:):\n",
    "\n",
    "print(x2[:, 0]) # first column of x2"
   ]
  },
  {
   "cell_type": "code",
   "execution_count": 57,
   "id": "4208aa39-9018-4492-839b-a55e32c8ea79",
   "metadata": {},
   "outputs": [
    {
     "name": "stdout",
     "output_type": "stream",
     "text": [
      "[12  5  2  4]\n"
     ]
    }
   ],
   "source": [
    "print(x2[0,:]) # first row of x2"
   ]
  },
  {
   "cell_type": "code",
   "execution_count": 58,
   "id": "fa9a27bd-30dc-4ccb-afa9-bf6a8db8978b",
   "metadata": {},
   "outputs": [
    {
     "name": "stdout",
     "output_type": "stream",
     "text": [
      "[12  5  2  4]\n"
     ]
    }
   ],
   "source": [
    "#In the case of row access, the empty slice can be omitted for a more compact syntax:\n",
    "\n",
    "print(x2[0]) # equivalent to x2[0, :]"
   ]
  },
  {
   "cell_type": "markdown",
   "id": "23295261-6db5-4be9-a40b-b7b17458dabf",
   "metadata": {},
   "source": [
    "\n",
    "Subarrays as no-copy views\n",
    "One important—and extremely useful—thing to know about array slices is that they return views rather than copies of the array data. This is one area in which NumPy array slicing differs from Python list slicing: in lists, slices will be copies. Consider our two-dimensional array from before:"
   ]
  },
  {
   "cell_type": "code",
   "execution_count": 59,
   "id": "95154e00-6a45-4c04-819d-14a300c7f3d6",
   "metadata": {},
   "outputs": [
    {
     "name": "stdout",
     "output_type": "stream",
     "text": [
      "[[12  5  2  4]\n",
      " [ 7  6  8  8]\n",
      " [ 1  6  7  7]]\n"
     ]
    }
   ],
   "source": [
    "print(x2)"
   ]
  },
  {
   "cell_type": "code",
   "execution_count": 60,
   "id": "a2d05ba2-2034-4d98-9f02-0011d3df8c8a",
   "metadata": {},
   "outputs": [
    {
     "name": "stdout",
     "output_type": "stream",
     "text": [
      "[[12  5]\n",
      " [ 7  6]]\n"
     ]
    }
   ],
   "source": [
    "#Let’s extract a 2×2 subarray from this:\n",
    "\n",
    "x2_sub = x2[:2,:2]\n",
    "print(x2_sub)"
   ]
  },
  {
   "cell_type": "code",
   "execution_count": 61,
   "id": "466ee85b-aa5c-4071-83d6-ddb232476637",
   "metadata": {},
   "outputs": [
    {
     "name": "stdout",
     "output_type": "stream",
     "text": [
      "[[99  5]\n",
      " [ 7  6]]\n"
     ]
    }
   ],
   "source": [
    "#Now if we modify this subarray, we’ll see that the original array is changed! Observe:\n",
    "\n",
    "x2_sub[0,0] = 99\n",
    "print(x2_sub)"
   ]
  },
  {
   "cell_type": "code",
   "execution_count": 62,
   "id": "fd5334c7-2ec6-45e3-b3b7-c17db21be998",
   "metadata": {},
   "outputs": [
    {
     "name": "stdout",
     "output_type": "stream",
     "text": [
      "[[99  5  2  4]\n",
      " [ 7  6  8  8]\n",
      " [ 1  6  7  7]]\n"
     ]
    }
   ],
   "source": [
    "print(x2)"
   ]
  },
  {
   "cell_type": "markdown",
   "id": "f474b187-58fc-4958-8765-192032f57c7f",
   "metadata": {},
   "source": [
    "This default behavior is actually quite useful: it means that when we work with large datasets, we can access and process pieces of these datasets without the need to copy the underlying data buffer."
   ]
  },
  {
   "cell_type": "markdown",
   "id": "6744013a-2fa6-4340-825e-fbc0778b1255",
   "metadata": {},
   "source": [
    "\n",
    "Creating copies of arrays\n",
    "Despite the nice features of array views, it is sometimes useful to instead explicitly copy the data within an array or a subarray. This can be most easily done with the copy() method:"
   ]
  },
  {
   "cell_type": "code",
   "execution_count": 63,
   "id": "e0997cdb-2c0c-4723-9f2b-22d4e2d5a7a8",
   "metadata": {},
   "outputs": [
    {
     "name": "stdout",
     "output_type": "stream",
     "text": [
      "[[99  5]\n",
      " [ 7  6]]\n"
     ]
    }
   ],
   "source": [
    "x2_sub_copy = x2[:2,:2].copy()\n",
    "print(x2_sub_copy)\n"
   ]
  },
  {
   "cell_type": "code",
   "execution_count": 64,
   "id": "9749a6f4-b54f-4109-9a9a-c0d1b74a3550",
   "metadata": {},
   "outputs": [
    {
     "name": "stdout",
     "output_type": "stream",
     "text": [
      "[[42  5]\n",
      " [ 7  6]]\n"
     ]
    }
   ],
   "source": [
    "#If we now modify this subarray, the original array is not touched:\n",
    "\n",
    "x2_sub_copy[0,0] = 42\n",
    "print(x2_sub_copy)"
   ]
  },
  {
   "cell_type": "code",
   "execution_count": 65,
   "id": "12ab844c-de75-41c4-8706-be804a9d0ca4",
   "metadata": {},
   "outputs": [
    {
     "name": "stdout",
     "output_type": "stream",
     "text": [
      "[[99  5  2  4]\n",
      " [ 7  6  8  8]\n",
      " [ 1  6  7  7]]\n"
     ]
    }
   ],
   "source": [
    "print(x2)"
   ]
  },
  {
   "cell_type": "markdown",
   "id": "5e0411ea-1786-43b7-8ef5-1ecd18b9bf99",
   "metadata": {},
   "source": [
    "Reshaping of Arrays"
   ]
  },
  {
   "cell_type": "code",
   "execution_count": 66,
   "id": "748735bd-e8ed-4bb3-b73d-4e63bb8e54a0",
   "metadata": {},
   "outputs": [
    {
     "name": "stdout",
     "output_type": "stream",
     "text": [
      "[[1 2 3]\n",
      " [4 5 6]\n",
      " [7 8 9]]\n"
     ]
    }
   ],
   "source": [
    "# Another useful type of operation is reshaping of arrays. The most flexible way of\n",
    "# doing this is with the reshape() method. For example, if you want to put the numbers\n",
    "# 1 through 9 in a 3×3 grid, you can do the following:\n",
    "\n",
    "grid = np.arange(1,10,1).reshape(3,3)\n",
    "print(grid)"
   ]
  },
  {
   "cell_type": "markdown",
   "id": "ddc9b9cb-76b0-4cbc-a2c7-131056ed651e",
   "metadata": {},
   "source": [
    "Where possible, the reshape method will use a no-copy view of the initial array, but with noncontiguous memory buffers this is not always the case.\n",
    "\n",
    "Another common reshaping pattern is the conversion of a one-dimensional array into a two-dimensional row or column matrix. You can do this with the reshape method, or more easily by making use of the newaxis keyword within a slice operation:"
   ]
  },
  {
   "cell_type": "code",
   "execution_count": 67,
   "id": "241053eb-fe82-4fe6-b03d-af633708f269",
   "metadata": {},
   "outputs": [
    {
     "data": {
      "text/plain": [
       "(3,)"
      ]
     },
     "execution_count": 67,
     "metadata": {},
     "output_type": "execute_result"
    }
   ],
   "source": [
    "x = np.array([1, 2, 3])\n",
    "x.shape # x is a vector (3,)"
   ]
  },
  {
   "cell_type": "code",
   "execution_count": 68,
   "id": "d1a42897-a780-40cc-af10-4ed11810f445",
   "metadata": {},
   "outputs": [
    {
     "data": {
      "text/plain": [
       "(1, 3)"
      ]
     },
     "execution_count": 68,
     "metadata": {},
     "output_type": "execute_result"
    }
   ],
   "source": [
    "# row vector via reshape\n",
    "\n",
    "x.reshape(1,3).shape"
   ]
  },
  {
   "cell_type": "code",
   "execution_count": 69,
   "id": "3d4caf5b-6ac5-4071-bae6-768b713b8528",
   "metadata": {},
   "outputs": [
    {
     "data": {
      "text/plain": [
       "(1, 3)"
      ]
     },
     "execution_count": 69,
     "metadata": {},
     "output_type": "execute_result"
    }
   ],
   "source": [
    "# row vector via newaxis\n",
    "\n",
    "x[np.newaxis, :].shape"
   ]
  },
  {
   "cell_type": "code",
   "execution_count": 70,
   "id": "0c927c4f-0099-46e5-8e86-036da9ba24f7",
   "metadata": {},
   "outputs": [
    {
     "data": {
      "text/plain": [
       "(1, 3)"
      ]
     },
     "execution_count": 70,
     "metadata": {},
     "output_type": "execute_result"
    }
   ],
   "source": [
    "x.reshape(1,-1).shape"
   ]
  },
  {
   "cell_type": "code",
   "execution_count": 71,
   "id": "7427aa6c-297e-4a7d-9275-61ba102de537",
   "metadata": {},
   "outputs": [
    {
     "data": {
      "text/plain": [
       "array([[1],\n",
       "       [2],\n",
       "       [3]])"
      ]
     },
     "execution_count": 71,
     "metadata": {},
     "output_type": "execute_result"
    }
   ],
   "source": [
    "# column vector via reshape\n",
    "\n",
    "x.reshape(3, 1)"
   ]
  },
  {
   "cell_type": "code",
   "execution_count": 72,
   "id": "afad9110-f78d-4e66-9f42-85c7e4ef7792",
   "metadata": {},
   "outputs": [
    {
     "data": {
      "text/plain": [
       "array([[1],\n",
       "       [2],\n",
       "       [3]])"
      ]
     },
     "execution_count": 72,
     "metadata": {},
     "output_type": "execute_result"
    }
   ],
   "source": [
    "# column vector via newaxis\n",
    "\n",
    "x[:, np.newaxis]"
   ]
  },
  {
   "cell_type": "code",
   "execution_count": 73,
   "id": "0e2553c3-3375-404a-905a-58ee1ebbba84",
   "metadata": {},
   "outputs": [
    {
     "data": {
      "text/plain": [
       "(3, 1)"
      ]
     },
     "execution_count": 73,
     "metadata": {},
     "output_type": "execute_result"
    }
   ],
   "source": [
    "x.reshape(-1,1).shape"
   ]
  },
  {
   "cell_type": "markdown",
   "id": "9c5a9f68-6ae8-4c3e-964d-8fac8c624125",
   "metadata": {},
   "source": [
    "Array Concatenation and Splitting"
   ]
  },
  {
   "cell_type": "code",
   "execution_count": 74,
   "id": "103e4477-42a2-4964-b01f-18dc37566896",
   "metadata": {},
   "outputs": [
    {
     "data": {
      "text/plain": [
       "array([1, 2, 3, 3, 2, 1])"
      ]
     },
     "execution_count": 74,
     "metadata": {},
     "output_type": "execute_result"
    }
   ],
   "source": [
    "x = np.array([1,2,3])\n",
    "y = np.array([3,2,1])\n",
    "np.concatenate((x, y))"
   ]
  },
  {
   "cell_type": "code",
   "execution_count": 75,
   "id": "1a4320e9-ab12-4d32-a959-aed522596cfd",
   "metadata": {},
   "outputs": [
    {
     "data": {
      "text/plain": [
       "array([ 1,  2,  3,  3,  2,  1, 99, 99, 99])"
      ]
     },
     "execution_count": 75,
     "metadata": {},
     "output_type": "execute_result"
    }
   ],
   "source": [
    "z = np.array([99,99,99]) #z =[99,99,99]\n",
    "\n",
    "np.concatenate((x,y,z))"
   ]
  },
  {
   "cell_type": "code",
   "execution_count": 76,
   "id": "771e838b-8fc4-43f9-a9a8-aff5b4572d5e",
   "metadata": {},
   "outputs": [],
   "source": [
    "grid = np.array([[1,2,3],\n",
    "                [4,5,6]])"
   ]
  },
  {
   "cell_type": "code",
   "execution_count": 77,
   "id": "f8cd211c-745f-4351-b2ee-4404375a2d31",
   "metadata": {},
   "outputs": [
    {
     "data": {
      "text/plain": [
       "array([[1, 2, 3],\n",
       "       [4, 5, 6],\n",
       "       [1, 2, 3],\n",
       "       [4, 5, 6]])"
      ]
     },
     "execution_count": 77,
     "metadata": {},
     "output_type": "execute_result"
    }
   ],
   "source": [
    "np.concatenate((grid,grid))"
   ]
  },
  {
   "cell_type": "code",
   "execution_count": 78,
   "id": "31a41fcc-8026-446f-b065-a7e0d8785294",
   "metadata": {},
   "outputs": [
    {
     "data": {
      "text/plain": [
       "array([[1, 2, 3, 1, 2, 3],\n",
       "       [4, 5, 6, 4, 5, 6]])"
      ]
     },
     "execution_count": 78,
     "metadata": {},
     "output_type": "execute_result"
    }
   ],
   "source": [
    "# concatenate along the second axis (zero-indexed)\n",
    "\n",
    "np.concatenate((grid, grid), axis=1)"
   ]
  },
  {
   "cell_type": "code",
   "execution_count": 79,
   "id": "89b63b6e-2757-43fe-918b-7d00b0164356",
   "metadata": {},
   "outputs": [
    {
     "data": {
      "text/plain": [
       "array([[1, 2, 3],\n",
       "       [9, 8, 7],\n",
       "       [6, 5, 4]])"
      ]
     },
     "execution_count": 79,
     "metadata": {},
     "output_type": "execute_result"
    }
   ],
   "source": [
    "# For working with arrays of mixed dimensions, it can be clearer to use the np.vstack\n",
    "# (vertical stack) and np.hstack (horizontal stack) functions:\n",
    "\n",
    "x = np.array([1,2,3])\n",
    "grid = np.array([[9,8,7],\n",
    "                 [6,5,4]])\n",
    "\n",
    "\n",
    "# vertically stack the arrays\n",
    "np.vstack([x,grid])"
   ]
  },
  {
   "cell_type": "code",
   "execution_count": 80,
   "id": "5e77ce0f-bd4c-4121-8fe8-883a8dc3adf7",
   "metadata": {},
   "outputs": [
    {
     "data": {
      "text/plain": [
       "array([[ 9,  8,  7, 99],\n",
       "       [ 6,  5,  4, 99]])"
      ]
     },
     "execution_count": 80,
     "metadata": {},
     "output_type": "execute_result"
    }
   ],
   "source": [
    "#horizontally stack the arrays\n",
    "\n",
    "y = np.array([[99],\n",
    "            [99]])\n",
    "np.hstack([grid,y])"
   ]
  },
  {
   "cell_type": "markdown",
   "id": "8033d39f-f9a4-498a-bad0-3640a1b1d277",
   "metadata": {},
   "source": [
    "Similarly, np.dstack will stack arrays along the third axis."
   ]
  },
  {
   "cell_type": "markdown",
   "id": "f7d34bb0-64e6-4aed-b4f1-8188229d523b",
   "metadata": {},
   "source": [
    "Splitting of arrays"
   ]
  },
  {
   "cell_type": "code",
   "execution_count": 81,
   "id": "a4bf72ee-db4a-4db0-9af9-a016510ec8b8",
   "metadata": {},
   "outputs": [
    {
     "name": "stdout",
     "output_type": "stream",
     "text": [
      "[1 2 3] [99 99] [3 2 1]\n"
     ]
    }
   ],
   "source": [
    "x = [1,2,3,99,99,3,2,1]\n",
    "x1, x2, x3 = np.split(x, [3,5])\n",
    "print(x1, x2, x3)"
   ]
  },
  {
   "cell_type": "code",
   "execution_count": 82,
   "id": "726c3e4b-12c1-4f2c-9523-b1d5fa071748",
   "metadata": {},
   "outputs": [
    {
     "name": "stdout",
     "output_type": "stream",
     "text": [
      "[1 2 3] [99] [99] [3 2 1]\n"
     ]
    }
   ],
   "source": [
    "x = np.array([1,2,3,99,99,3,2,1])\n",
    "x1, x2, x3, x4 = np.split(x, [3,4,5])\n",
    "print(x1, x2, x3,x4)\n"
   ]
  },
  {
   "cell_type": "markdown",
   "id": "37fa1233-04df-4b2a-8eca-8978528297c4",
   "metadata": {},
   "source": [
    "Notice that N split points lead to N + 1 subarrays. The related functions np.hsplit and np.vsplit are similar:"
   ]
  },
  {
   "cell_type": "code",
   "execution_count": 83,
   "id": "60b0d8e0-0dbf-48db-8f76-33f0cebd4f45",
   "metadata": {},
   "outputs": [
    {
     "data": {
      "text/plain": [
       "array([[ 0.,  1.,  2.,  3.,  4.,  5.],\n",
       "       [ 6.,  7.,  8.,  9., 10., 11.],\n",
       "       [12., 13., 14., 15., 16., 17.],\n",
       "       [18., 19., 20., 21., 22., 23.],\n",
       "       [24., 25., 26., 27., 28., 29.],\n",
       "       [30., 31., 32., 33., 34., 35.]])"
      ]
     },
     "execution_count": 83,
     "metadata": {},
     "output_type": "execute_result"
    }
   ],
   "source": [
    "grid = np.arange(36,dtype=float).reshape((6,6))\n",
    "grid"
   ]
  },
  {
   "cell_type": "code",
   "execution_count": 84,
   "id": "81515c0b-97a3-418b-81d8-efb22a6b7d14",
   "metadata": {},
   "outputs": [
    {
     "name": "stdout",
     "output_type": "stream",
     "text": [
      "[[ 0.  1.  2.  3.  4.  5.]\n",
      " [ 6.  7.  8.  9. 10. 11.]]\n",
      "[[12. 13. 14. 15. 16. 17.]\n",
      " [18. 19. 20. 21. 22. 23.]\n",
      " [24. 25. 26. 27. 28. 29.]\n",
      " [30. 31. 32. 33. 34. 35.]]\n"
     ]
    }
   ],
   "source": [
    "upper, lower = np.vsplit(grid, [2])\n",
    "print(upper)\n",
    "print(lower)"
   ]
  },
  {
   "cell_type": "code",
   "execution_count": 85,
   "id": "3360ec38-b58e-434c-8b64-9b3f91e23474",
   "metadata": {},
   "outputs": [
    {
     "name": "stdout",
     "output_type": "stream",
     "text": [
      "upper:  [[ 0.  1.  2.  3.  4.  5.]\n",
      " [ 6.  7.  8.  9. 10. 11.]]\n",
      "middle:  [[12. 13. 14. 15. 16. 17.]]\n",
      "lower:  [[18. 19. 20. 21. 22. 23.]\n",
      " [24. 25. 26. 27. 28. 29.]\n",
      " [30. 31. 32. 33. 34. 35.]]\n"
     ]
    }
   ],
   "source": [
    "upper,middle, lower = np.vsplit(grid, [2,3])\n",
    "print(\"upper: \",upper)\n",
    "print(\"middle: \",middle)\n",
    "print(\"lower: \",lower)"
   ]
  },
  {
   "cell_type": "code",
   "execution_count": 86,
   "id": "e6a182dc-fbfa-4f41-b4a3-f0f5fc374fd0",
   "metadata": {},
   "outputs": [
    {
     "name": "stdout",
     "output_type": "stream",
     "text": [
      "[[ 0.  1.]\n",
      " [ 6.  7.]\n",
      " [12. 13.]\n",
      " [18. 19.]\n",
      " [24. 25.]\n",
      " [30. 31.]]\n",
      "[[ 2.  3.  4.  5.]\n",
      " [ 8.  9. 10. 11.]\n",
      " [14. 15. 16. 17.]\n",
      " [20. 21. 22. 23.]\n",
      " [26. 27. 28. 29.]\n",
      " [32. 33. 34. 35.]]\n"
     ]
    }
   ],
   "source": [
    "left, right = np.hsplit(grid, [2])\n",
    "print(left)\n",
    "print(right)"
   ]
  },
  {
   "cell_type": "code",
   "execution_count": 87,
   "id": "919b3f40-fbed-4dfc-86db-c0ec3b3e94c3",
   "metadata": {},
   "outputs": [
    {
     "name": "stdout",
     "output_type": "stream",
     "text": [
      "[[ 0.  1.  2.]\n",
      " [ 6.  7.  8.]\n",
      " [12. 13. 14.]\n",
      " [18. 19. 20.]\n",
      " [24. 25. 26.]\n",
      " [30. 31. 32.]]\n",
      "[[ 3.  4.  5.]\n",
      " [ 9. 10. 11.]\n",
      " [15. 16. 17.]\n",
      " [21. 22. 23.]\n",
      " [27. 28. 29.]\n",
      " [33. 34. 35.]]\n"
     ]
    }
   ],
   "source": [
    "left, right = np.hsplit(grid, 2)\n",
    "print(left)\n",
    "print(right)"
   ]
  },
  {
   "cell_type": "markdown",
   "id": "79e35d05-3a1c-4035-a15e-39531daf1bd4",
   "metadata": {},
   "source": [
    "Computation on NumPy Arrays: Universal Functions"
   ]
  },
  {
   "cell_type": "markdown",
   "id": "05f0ac74-c7bb-4a9e-b113-6d7a9be9e42d",
   "metadata": {},
   "source": [
    "Exploring NumPy’s UFuncs¶\n",
    "Ufuncs exist in two flavors: unary ufuncs, which operate on a single input, and binary ufuncs, which operate on two inputs. We’ll see examples of both these types of functions here."
   ]
  },
  {
   "cell_type": "code",
   "execution_count": 88,
   "id": "363eaa9c-b6ff-4118-bc85-88a9b3740c00",
   "metadata": {},
   "outputs": [
    {
     "name": "stdout",
     "output_type": "stream",
     "text": [
      "x = [0 1 2 3]\n",
      "x + 5 = [5 6 7 8]\n",
      "x - 5 = [-5 -4 -3 -2]\n",
      "x * 2 = [0 2 4 6]\n",
      "x / 2 = [0.  0.5 1.  1.5]\n",
      "x // 2 = [0 0 1 1]\n"
     ]
    }
   ],
   "source": [
    "# NumPy’s ufuncs feel very natural to use because they make use of Python’s native\n",
    "# arithmetic operators. The standard addition, subtraction, multiplication, and division\n",
    "# can all be used:\n",
    "\n",
    "x = np.arange(4)\n",
    "print(\"x =\", x)\n",
    "print(\"x + 5 =\", x + 5)\n",
    "print(\"x - 5 =\", x - 5)\n",
    "print(\"x * 2 =\", x * 2)\n",
    "print(\"x / 2 =\", x / 2)\n",
    "print(\"x // 2 =\", x // 2) # floor division"
   ]
  },
  {
   "cell_type": "code",
   "execution_count": 89,
   "id": "e1ddb64a-d87d-4dd0-b26e-c910aef77d94",
   "metadata": {},
   "outputs": [
    {
     "name": "stdout",
     "output_type": "stream",
     "text": [
      "-x =  [ 0 -1 -2 -3]\n",
      "x ** 2 =  [0 1 4 9]\n",
      "x % 2 =  [0 1 0 1]\n"
     ]
    }
   ],
   "source": [
    "#There is also a unary ufunc for negation, a ** operator for exponentiation, and a %\n",
    "#operator for modulus:\n",
    "\n",
    "print(\"-x = \", -x)\n",
    "print(\"x ** 2 = \", x ** 2)\n",
    "print(\"x % 2 = \", x % 2)"
   ]
  },
  {
   "cell_type": "code",
   "execution_count": 90,
   "id": "9ba63f13-f2ba-4bdc-83de-1816f2b7296d",
   "metadata": {},
   "outputs": [
    {
     "data": {
      "text/plain": [
       "array([-1.  , -2.25, -4.  , -6.25])"
      ]
     },
     "execution_count": 90,
     "metadata": {},
     "output_type": "execute_result"
    }
   ],
   "source": [
    "# In addition, these can be strung together however you wish, and the standard order\n",
    "# of operations is respected:\n",
    "\n",
    "-(0.5*x+1) ** 2"
   ]
  },
  {
   "cell_type": "code",
   "execution_count": 91,
   "id": "ef45c4b7-c368-436a-bb49-0d528eebbe34",
   "metadata": {},
   "outputs": [
    {
     "name": "stdout",
     "output_type": "stream",
     "text": [
      "5\n",
      "[2 3 4 5]\n",
      "[-5 -4 -3 -2]\n",
      "[ 0 -1 -2 -3]\n",
      "[0 3 6 9]\n",
      "[0.  0.5 1.  1.5]\n",
      "[0 0 1 1]\n",
      "[0 1 4 9]\n",
      "[0 1 0 1]\n",
      "[0 1 4 9]\n"
     ]
    }
   ],
   "source": [
    "# All of these arithmetic operations are simply convenient wrappers around specific\n",
    "# functions built into NumPy; for example, the + operator is a wrapper for the add\n",
    "# function:\n",
    "\n",
    "print(np.add(3,2))\n",
    "\n",
    "print(np.add(x,2)) #Addition +\n",
    "print(np.subtract(x,5)) #Subtraction -\n",
    "print(np.negative(x)) #Unary negation -\n",
    "print(np.multiply(x,3)) #Multiplication *\n",
    "print(np.divide(x,2)) #Division /\n",
    "print(np.floor_divide(x,2)) #Floor division //\n",
    "print(np.power(x,2)) #Exponentiation **\n",
    "print(np.mod(x,2)) #Modulus/remainder **\n",
    "\n",
    "print(np.multiply(x, x))\n"
   ]
  },
  {
   "cell_type": "code",
   "execution_count": 92,
   "id": "01dca1b9-2033-4998-89db-7fd3533ad9d7",
   "metadata": {},
   "outputs": [
    {
     "data": {
      "text/plain": [
       "array([2, 1, 0, 1, 2])"
      ]
     },
     "execution_count": 92,
     "metadata": {},
     "output_type": "execute_result"
    }
   ],
   "source": [
    "# Just as NumPy understands Python’s built-in arithmetic operators, it also understands\n",
    "# Python’s built-in absolute value function:\n",
    "\n",
    "x = np.array([-2,-1,0,1,2])\n",
    "abs(x)"
   ]
  },
  {
   "cell_type": "code",
   "execution_count": 93,
   "id": "2dd5aaf6-2d11-40f2-a3a2-cfa02917e0c1",
   "metadata": {},
   "outputs": [
    {
     "name": "stdout",
     "output_type": "stream",
     "text": [
      "[2 1 0 1 2]\n",
      "[2 1 0 1 2]\n"
     ]
    }
   ],
   "source": [
    "# The corresponding NumPy ufunc is np.absolute, which is also available under the\n",
    "# alias np.abs:\n",
    "\n",
    "print(np.absolute(x))\n",
    "print(np.abs(x))"
   ]
  },
  {
   "cell_type": "code",
   "execution_count": 94,
   "id": "1f2e503b-6a70-4ad2-b690-cc68449e076d",
   "metadata": {},
   "outputs": [
    {
     "data": {
      "text/plain": [
       "array([25.        ,  5.        ,  2.        ,  3.16227766])"
      ]
     },
     "execution_count": 94,
     "metadata": {},
     "output_type": "execute_result"
    }
   ],
   "source": [
    "# This ufunc can also handle complex data, in which the absolute value returns the\n",
    "# magnitude:\n",
    "\n",
    "x = np.array([7-24j,4-3j,2+0j,1+3j])\n",
    "np.abs(x)"
   ]
  },
  {
   "cell_type": "code",
   "execution_count": 95,
   "id": "f1601941-078f-4e13-8310-2c2acf87e52d",
   "metadata": {},
   "outputs": [
    {
     "name": "stdout",
     "output_type": "stream",
     "text": [
      "theta      = [0.         1.57079633 3.14159265]\n",
      "sin(theta) = [0.0000000e+00 1.0000000e+00 1.2246468e-16]\n",
      "cos(theta) = [ 1.000000e+00  6.123234e-17 -1.000000e+00]\n",
      "tan(theta) = [ 0.00000000e+00  1.63312394e+16 -1.22464680e-16]\n"
     ]
    }
   ],
   "source": [
    "# NumPy provides a large number of useful ufuncs, and some of the most useful for the\n",
    "# data scientist are the trigonometric functions. We’ll start by defining an array of\n",
    "# angles:\n",
    "\n",
    "theta = np.linspace(0,np.pi,3)\n",
    "\n",
    "\n",
    "#Now we can compute some trigonometric fuctions on these values:\n",
    "print(\"theta      =\",theta)\n",
    "print(\"sin(theta) =\",np.sin(theta))\n",
    "print(\"cos(theta) =\",np.cos(theta))\n",
    "print(\"tan(theta) =\",np.tan(theta))"
   ]
  },
  {
   "cell_type": "code",
   "execution_count": 96,
   "id": "b4825acf-1a88-4d50-b71e-13810a610c87",
   "metadata": {},
   "outputs": [
    {
     "name": "stdout",
     "output_type": "stream",
     "text": [
      "x =  [-1, 0, 1]\n",
      "arcsin(x) =  [-1.57079633  0.          1.57079633]\n",
      "arccos(x) =  [3.14159265 1.57079633 0.        ]\n",
      "arctan(x) =  [-0.78539816  0.          0.78539816]\n"
     ]
    }
   ],
   "source": [
    "x = [-1, 0, 1]\n",
    "\n",
    "print(\"x = \", x)\n",
    "print(\"arcsin(x) = \", np.arcsin(x))\n",
    "print(\"arccos(x) = \", np.arccos(x))\n",
    "print(\"arctan(x) = \", np.arctan(x))"
   ]
  },
  {
   "cell_type": "code",
   "execution_count": 97,
   "id": "9990e416-0393-4526-b4a7-43dc6717f49f",
   "metadata": {},
   "outputs": [
    {
     "name": "stdout",
     "output_type": "stream",
     "text": [
      "x      = [1, 2, 3]\n",
      "e^x    = [ 2.71828183  7.3890561  20.08553692]\n",
      "2^x    = [2. 4. 8.]\n",
      "3^x    = [ 3  9 27]\n"
     ]
    }
   ],
   "source": [
    "x = [1,2,3]\n",
    "print(\"x      =\",x)\n",
    "print(\"e^x    =\",np.exp(x))\n",
    "print(\"2^x    =\",np.exp2(x))\n",
    "print(\"3^x    =\",np.power(3,x))"
   ]
  },
  {
   "cell_type": "code",
   "execution_count": 98,
   "id": "b8f64772-ed03-4332-988d-314d3abe0b02",
   "metadata": {},
   "outputs": [
    {
     "name": "stdout",
     "output_type": "stream",
     "text": [
      "x        = [1, 2, 4, 10]\n",
      "ln(x)    = [0.         0.69314718 1.38629436 2.30258509]\n",
      "log2(x)  = [0.         1.         2.         3.32192809]\n",
      "log10(x) = [0.         0.30103    0.60205999 1.        ]\n"
     ]
    }
   ],
   "source": [
    "# The inverse of the exponentials, the logarithms, are also available. The basic np.log\n",
    "# gives the natural logarithm; if you prefer to compute the base-2 logarithm or the\n",
    "# base-10 logarithm, these are available as well:\n",
    "\n",
    "x = [1, 2, 4, 10]\n",
    "print(\"x        =\", x)\n",
    "print(\"ln(x)    =\", np.log(x))\n",
    "print(\"log2(x)  =\", np.log2(x))\n",
    "print(\"log10(x) =\", np.log10(x))"
   ]
  },
  {
   "cell_type": "code",
   "execution_count": 99,
   "id": "1c7057e3-2215-4826-8c2a-467b8dc62cb0",
   "metadata": {},
   "outputs": [
    {
     "name": "stdout",
     "output_type": "stream",
     "text": [
      "exp(x) - 1 = [0.         0.0010005  0.01005017 0.10517092]\n",
      "log(1 + x) = [0.         0.0009995  0.00995033 0.09531018]\n"
     ]
    }
   ],
   "source": [
    "# There are also some specialized versions that are useful for maintaining precision\n",
    "# with very small input:\n",
    "\n",
    "x = [0, 0.001, 0.01, 0.1]\n",
    "print(\"exp(x) - 1 =\", np.expm1(x))\n",
    "print(\"log(1 + x) =\", np.log1p(x))"
   ]
  },
  {
   "cell_type": "markdown",
   "id": "8af120dc-de91-4b46-95f2-a4b69c2ec8f3",
   "metadata": {},
   "source": [
    "Advanced Ufunc Features\n",
    "\n",
    "\n",
    "Specifying output\n",
    "For large calculations, it is sometimes useful to be able to specify the array where the result of the calculation will be stored. Rather than creating a temporary array, you can use this to write computation results directly to the memory location where you’d like them to be. For all ufuncs, you can do this using the out argument of the function:"
   ]
  },
  {
   "cell_type": "code",
   "execution_count": 100,
   "id": "1a8fba74-1ffa-4f56-9816-5bcf5b5bf7c7",
   "metadata": {},
   "outputs": [
    {
     "name": "stdout",
     "output_type": "stream",
     "text": [
      "[ 0. 10. 20. 30. 40.]\n"
     ]
    }
   ],
   "source": [
    "x = np.arange(5)\n",
    "y = np.empty(5)\n",
    "np.multiply(x, 10, out=y)\n",
    "print(y)"
   ]
  },
  {
   "cell_type": "code",
   "execution_count": 101,
   "id": "89856c1b-0101-4907-9e77-e5890e99ea82",
   "metadata": {},
   "outputs": [
    {
     "name": "stdout",
     "output_type": "stream",
     "text": [
      "[ 1.  0.  2.  0.  4.  0.  8.  0. 16.  0.]\n"
     ]
    }
   ],
   "source": [
    "#This can even be used with array views. For example, we can write the results of a\n",
    "#computation to every other element of a specified array:\n",
    "\n",
    "y = np.zeros(10)\n",
    "np.power(2, x, out=y[::2])\n",
    "print(y)\n",
    "\n",
    "# If we had instead written y[::2] = 2 ** x, this would have resulted in the creation\n",
    "# of a temporary array to hold the results of 2 ** x, followed by a second operation\n",
    "# copying those values into the y array. This doesn’t make much of a difference for such\n",
    "# a small computation, but for very large arrays the memory savings from careful use of\n",
    "# the out argument can be significant.\n"
   ]
  },
  {
   "cell_type": "code",
   "execution_count": 102,
   "id": "a8250375-c0bd-4163-9c33-e0ccea915a00",
   "metadata": {},
   "outputs": [
    {
     "name": "stdout",
     "output_type": "stream",
     "text": [
      "[ 1.  0.  2.  0.  4.  0.  8.  0. 16.  0.]\n"
     ]
    }
   ],
   "source": [
    "y = np.zeros(10)\n",
    "y[::2] = 2 ** x\n",
    "print(y)"
   ]
  },
  {
   "cell_type": "markdown",
   "id": "b6b0d992-2f9c-48a5-9d31-efcd791c487c",
   "metadata": {},
   "source": [
    "Aggregates¶\n",
    "For binary ufuncs, there are some interesting aggregates that can be computed directly from the object. For example, if we’d like to reduce an array with a particular operation, we can use the reduce method of any ufunc. A reduce repeatedly applies a given operation to the elements of an array until only a single result remains. For example, calling reduce on the add ufunc returns the sum of all elements in the array:"
   ]
  },
  {
   "cell_type": "code",
   "execution_count": 103,
   "id": "6b4b530b-6ab2-4403-b2b4-14b64a5e585b",
   "metadata": {},
   "outputs": [
    {
     "name": "stdout",
     "output_type": "stream",
     "text": [
      "[1 2 3 4 5]\n",
      "15\n",
      "-13\n",
      "120\n"
     ]
    }
   ],
   "source": [
    "x = np.arange(1,6)\n",
    "print(x)\n",
    "print(np.add.reduce(x))\n",
    "print(np.subtract.reduce(x))\n",
    "print(np.multiply.reduce(x))"
   ]
  },
  {
   "cell_type": "code",
   "execution_count": 104,
   "id": "055bf932-b4d4-4950-be5c-e16d7a4aed7f",
   "metadata": {},
   "outputs": [
    {
     "name": "stdout",
     "output_type": "stream",
     "text": [
      "[1 2 3 4 5]\n",
      "[ 1  3  6 10 15]\n",
      "[  1  -1  -4  -8 -13]\n",
      "[  1   2   6  24 120]\n",
      "[1.         0.5        0.16666667 0.04166667 0.00833333]\n",
      "[1 0 0 0 0]\n",
      "[1 2 3 4 5]\n"
     ]
    }
   ],
   "source": [
    "#If we’d like to store all the intermediate results of the computation, we can instead use\n",
    "#accumulate:\n",
    "print(x)\n",
    "print(np.add.accumulate(x))\n",
    "\n",
    "print(np.subtract.accumulate(x))\n",
    "\n",
    "print(np.multiply.accumulate(x))\n",
    "\n",
    "print(np.divide.accumulate(x))\n",
    "\n",
    "print(np.floor_divide.accumulate(x))\n",
    "\n",
    "print(x)"
   ]
  },
  {
   "cell_type": "markdown",
   "id": "988f8682-3167-45cc-974a-b8455328a89a",
   "metadata": {},
   "source": [
    "Outer products¶\n",
    "\n",
    "Finally, any ufunc can compute the output of all pairs of two different inputs using the outer method. This allows you, in one line, to do things like create a multiplica‐ tion table:"
   ]
  },
  {
   "cell_type": "code",
   "execution_count": 105,
   "id": "1dd140b2-e68a-4a73-b5fd-76a4a03ee46e",
   "metadata": {},
   "outputs": [
    {
     "data": {
      "text/plain": [
       "array([[ 1,  2,  3,  4,  5],\n",
       "       [ 2,  4,  6,  8, 10],\n",
       "       [ 3,  6,  9, 12, 15],\n",
       "       [ 4,  8, 12, 16, 20],\n",
       "       [ 5, 10, 15, 20, 25]])"
      ]
     },
     "execution_count": 105,
     "metadata": {},
     "output_type": "execute_result"
    }
   ],
   "source": [
    "x = np.arange(1,6)\n",
    "np.multiply.outer(x, x)"
   ]
  },
  {
   "cell_type": "code",
   "execution_count": 106,
   "id": "9cedec6e-2cba-4256-8a0a-768e1e54c263",
   "metadata": {},
   "outputs": [
    {
     "data": {
      "text/plain": [
       "np.float64(52.12818058833704)"
      ]
     },
     "execution_count": 106,
     "metadata": {},
     "output_type": "execute_result"
    }
   ],
   "source": [
    "# As a quick example, consider computing the sum of all values in an array. Python\n",
    "# itself can do this using the built-in sum function:\n",
    "\n",
    "L = np.random.random(100)\n",
    "sum(L)"
   ]
  },
  {
   "cell_type": "code",
   "execution_count": 107,
   "id": "5e2701f7-015c-4c66-8de8-2e19041c9018",
   "metadata": {},
   "outputs": [
    {
     "data": {
      "text/plain": [
       "np.float64(52.12818058833702)"
      ]
     },
     "execution_count": 107,
     "metadata": {},
     "output_type": "execute_result"
    }
   ],
   "source": [
    "#The syntax is quite similar to that of NumPy’s sum function, and the result is the same\n",
    "#in the simplest case:\n",
    "\n",
    "np.sum(L)"
   ]
  },
  {
   "cell_type": "code",
   "execution_count": 108,
   "id": "b04aefba-da83-46cc-8be3-b0cfb1abfe4f",
   "metadata": {},
   "outputs": [
    {
     "name": "stdout",
     "output_type": "stream",
     "text": [
      "[0.16684751 0.77905102 0.8649333  ... 0.58889529 0.6247286  0.55565566]\n",
      "39.1 ms ± 245 μs per loop (mean ± std. dev. of 7 runs, 10 loops each)\n",
      "188 μs ± 2.23 μs per loop (mean ± std. dev. of 7 runs, 10,000 loops each)\n"
     ]
    }
   ],
   "source": [
    "# However, because it executes the operation in compiled code, NumPy’s version of the\n",
    "# operation is computed much more quickly:\n",
    "\n",
    "big_array = np.random.rand(1000000)\n",
    "print(big_array)\n",
    "%timeit sum(big_array)\n",
    "%timeit np.sum(big_array)"
   ]
  },
  {
   "cell_type": "code",
   "execution_count": 109,
   "id": "bba664d0-0cfc-45ad-a53f-8748a3f537c1",
   "metadata": {},
   "outputs": [
    {
     "data": {
      "text/plain": [
       "(np.float64(1.4057692298008462e-06), np.float64(0.9999994392723005))"
      ]
     },
     "execution_count": 109,
     "metadata": {},
     "output_type": "execute_result"
    }
   ],
   "source": [
    "#Similarly, Python has built-in min and max functions, used to find the minimum value\n",
    "#and maximum value of any given array:\n",
    "\n",
    "min(big_array),max(big_array)"
   ]
  },
  {
   "cell_type": "code",
   "execution_count": 110,
   "id": "5d622085-d45a-4e10-936c-c3d4395b1015",
   "metadata": {},
   "outputs": [
    {
     "name": "stdout",
     "output_type": "stream",
     "text": [
      "30.1 ms ± 113 μs per loop (mean ± std. dev. of 7 runs, 10 loops each)\n",
      "112 μs ± 2 μs per loop (mean ± std. dev. of 7 runs, 10,000 loops each)\n"
     ]
    }
   ],
   "source": [
    "%timeit min(big_array)\n",
    "%timeit np.min(big_array)"
   ]
  },
  {
   "cell_type": "code",
   "execution_count": 111,
   "id": "efcf507d-786a-405d-88c8-e8ea08538c64",
   "metadata": {},
   "outputs": [
    {
     "name": "stdout",
     "output_type": "stream",
     "text": [
      "1.4057692298008462e-06 0.9999994392723005 500202.5348847683\n",
      "109 μs ± 1.94 μs per loop (mean ± std. dev. of 7 runs, 10,000 loops each)\n",
      "108 μs ± 1.04 μs per loop (mean ± std. dev. of 7 runs, 10,000 loops each)\n"
     ]
    }
   ],
   "source": [
    "# For min, max, sum, and several other NumPy aggregates, a shorter syntax is to use\n",
    "# methods of the array object itself:\n",
    "\n",
    "print(big_array.min(), big_array.max(), big_array.sum())\n",
    "# Whenever possible, make sure that you are using the NumPy version of these aggre‐\n",
    "#gates when operating on NumPy arrays!\n",
    "%timeit np.min(big_array)\n",
    "%timeit big_array.min()"
   ]
  },
  {
   "cell_type": "markdown",
   "id": "828585a4-6d6c-48f0-9151-a53bef381f12",
   "metadata": {},
   "source": [
    "Multidimensional aggregates¶"
   ]
  },
  {
   "cell_type": "code",
   "execution_count": 112,
   "id": "a67362d2-a391-436b-bd7c-25c5f2da17df",
   "metadata": {},
   "outputs": [
    {
     "name": "stdout",
     "output_type": "stream",
     "text": [
      "[[0.5488135  0.71518937 0.60276338 0.54488318]\n",
      " [0.4236548  0.64589411 0.43758721 0.891773  ]\n",
      " [0.96366276 0.38344152 0.79172504 0.52889492]]\n"
     ]
    },
    {
     "data": {
      "text/plain": [
       "np.float64(7.478282790980994)"
      ]
     },
     "execution_count": 112,
     "metadata": {},
     "output_type": "execute_result"
    }
   ],
   "source": [
    "# One common type of aggregation operation is an aggregate along a row or column.\n",
    "# Say you have some data stored in a two-dimensional array:\n",
    "np.random.seed(seed=0)\n",
    "M = np.random.random((3,4))\n",
    "print(M)\n",
    "\n",
    "M.sum()"
   ]
  },
  {
   "cell_type": "code",
   "execution_count": 113,
   "id": "c5638581-3218-449c-ba38-5081a2b68d73",
   "metadata": {},
   "outputs": [
    {
     "name": "stdout",
     "output_type": "stream",
     "text": [
      "[0.4236548  0.38344152 0.43758721 0.52889492]\n",
      "[0.4236548  0.38344152 0.43758721 0.52889492]\n"
     ]
    },
    {
     "data": {
      "text/plain": [
       "array([[0.5488135 , 0.71518937, 0.60276338, 0.54488318],\n",
       "       [0.4236548 , 0.64589411, 0.43758721, 0.891773  ],\n",
       "       [0.96366276, 0.38344152, 0.79172504, 0.52889492]])"
      ]
     },
     "execution_count": 113,
     "metadata": {},
     "output_type": "execute_result"
    }
   ],
   "source": [
    "# the aggregate is computed. For example, we can find the minimum value within each\n",
    "# column by specifying axis=0:\n",
    "\n",
    "print(M.min(axis=0))\n",
    "#or use that way\n",
    "print(np.min(M,axis=0))\n",
    "M"
   ]
  },
  {
   "cell_type": "code",
   "execution_count": 114,
   "id": "52c571c6-ad9f-4bb2-80c1-9f3431ced8d4",
   "metadata": {},
   "outputs": [
    {
     "data": {
      "text/plain": [
       "array([0.71518937, 0.891773  , 0.96366276])"
      ]
     },
     "execution_count": 114,
     "metadata": {},
     "output_type": "execute_result"
    }
   ],
   "source": [
    "# Similarly, we can find the maximum value within each row:\n",
    "\n",
    "M.max(axis=1)"
   ]
  },
  {
   "cell_type": "code",
   "execution_count": 115,
   "id": "5f8a46f6-6414-4f0a-bdb3-a7b896d9eb9d",
   "metadata": {},
   "outputs": [
    {
     "name": "stdout",
     "output_type": "stream",
     "text": [
      "np.sum       = nan\n",
      "np.nansum    = 12.0\n",
      "np.mean      = nan\n",
      "np.nanmean   = 3.0\n",
      "np.std       = nan\n",
      "np.nanstd    = 1.5811388300841898\n",
      "np.argmin    = 2\n",
      "np.nanargmin = 0\n"
     ]
    }
   ],
   "source": [
    "# Note that some of these NaN-safe functions were not added until\n",
    "# NumPy 1.8, so they will not be available in older NumPy versions.\n",
    "\n",
    "x = np.array([1,2,np.nan,4,5])\n",
    "\n",
    "print(\"np.sum       =\",np.sum(x))\n",
    "print(\"np.nansum    =\",np.nansum(x))\n",
    "\n",
    "print(\"np.mean      =\",np.mean(x))\n",
    "print(\"np.nanmean   =\",np.nanmean(x))\n",
    "\n",
    "print(\"np.std       =\",np.std(x))\n",
    "print(\"np.nanstd    =\",np.nanstd(x))\n",
    "\n",
    "\n",
    "#Be careful that this is not a real index of minimum value.\n",
    "print(\"np.argmin    =\",np.argmin(x)) \n",
    "#if there is a nan value in an array, it returns index of nan value.\n",
    "\n",
    "\n",
    "print(\"np.nanargmin =\",np.nanargmin(x))"
   ]
  },
  {
   "attachments": {
    "79000067-d305-4da0-b051-ac2895d18d3a.png": {
     "image/png": "[encoded data removed]"
    }
   },
   "cell_type": "markdown",
   "id": "3c22af37-2335-4602-8262-1ee3afd36e54",
   "metadata": {},
   "source": [
    "![4214_t2-3.png](attachment:79000067-d305-4da0-b051-ac2895d18d3a.png)"
   ]
  },
  {
   "cell_type": "markdown",
   "id": "6b18e64b-f4e9-43a1-a1cc-fdd5b383dc05",
   "metadata": {},
   "source": [
    "Computation on Arrays: Broadcasting¶\n",
    "Broadcasting is simply a set of rules for applying binary ufuncs (addition, subtraction, multiplication, etc.) on arrays of different sizes.\n"
   ]
  },
  {
   "cell_type": "code",
   "execution_count": 116,
   "id": "45bcf16c-89b4-4d2d-97e0-3e739ea51b08",
   "metadata": {},
   "outputs": [
    {
     "data": {
      "text/plain": [
       "array([5, 6, 7])"
      ]
     },
     "execution_count": 116,
     "metadata": {},
     "output_type": "execute_result"
    }
   ],
   "source": [
    "import numpy as np\n",
    "\n",
    "a = np.array([0,1,2])\n",
    "b = np.array([5,5,5])\n",
    "a+b"
   ]
  },
  {
   "cell_type": "code",
   "execution_count": 117,
   "id": "b6420ae0-bb50-4f23-b725-60ef41963c3d",
   "metadata": {},
   "outputs": [
    {
     "data": {
      "text/plain": [
       "array([5, 6, 7])"
      ]
     },
     "execution_count": 117,
     "metadata": {},
     "output_type": "execute_result"
    }
   ],
   "source": [
    "a+5"
   ]
  },
  {
   "cell_type": "code",
   "execution_count": 118,
   "id": "1624474a-5015-4347-93c7-480cdc88c85d",
   "metadata": {},
   "outputs": [
    {
     "data": {
      "text/plain": [
       "array([[1., 1., 1.],\n",
       "       [1., 1., 1.],\n",
       "       [1., 1., 1.]])"
      ]
     },
     "execution_count": 118,
     "metadata": {},
     "output_type": "execute_result"
    }
   ],
   "source": [
    "# We can similarly extend this to arrays of higher dimension. Observe the result when\n",
    "# we add a one-dimensional array to a two-dimensional array:\n",
    "\n",
    "M = np.ones((3,3))\n",
    "M"
   ]
  },
  {
   "attachments": {
    "b4fd3eed-c506-4105-a3ed-073c27e078aa.png": {
     "image/png": "[encoded data removed]"
    }
   },
   "cell_type": "markdown",
   "id": "ebda8ad0-a36f-48fa-a41b-6bf015caa10e",
   "metadata": {},
   "source": [
    "![02.05-broadcasting.png](attachment:b4fd3eed-c506-4105-a3ed-073c27e078aa.png)"
   ]
  },
  {
   "cell_type": "markdown",
   "id": "a60a8beb-b6d1-4e0d-a6fe-75ebdc2910f3",
   "metadata": {},
   "source": [
    "Rules of Broadcasting¶\n",
    "Broadcasting in NumPy follows a strict set of rules to determine the interaction between the two arrays:\n",
    "\n",
    "Rule 1: If the two arrays differ in their number of dimensions, the shape of the one with fewer dimensions is padded with ones on its leading (left) side.\n",
    "\n",
    "Rule 2: If the shape of the two arrays does not match in any dimension, the array with shape equal to 1 in that dimension is stretched to match the other shape.\n",
    "Rule 3: If in any dimension the sizes disagree and neither is equal to 1, an error is raised."
   ]
  },
  {
   "cell_type": "code",
   "execution_count": 119,
   "id": "9dc8ef78-c1ab-400d-b403-96f645f43fd7",
   "metadata": {},
   "outputs": [
    {
     "name": "stdout",
     "output_type": "stream",
     "text": [
      "[[1. 1. 1.]\n",
      " [1. 1. 1.]]\n",
      "[0 1 2]\n"
     ]
    },
    {
     "data": {
      "text/plain": [
       "array([[1., 2., 3.],\n",
       "       [1., 2., 3.]])"
      ]
     },
     "execution_count": 119,
     "metadata": {},
     "output_type": "execute_result"
    }
   ],
   "source": [
    "#Let’s look at adding a two-dimensional array to a one-dimensional array:\n",
    "M = np.ones((2,3))\n",
    "print(M)\n",
    "a = np.arange(3)\n",
    "print(a)\n",
    "# Let’s consider an operation on these two arrays. The shapes of the arrays are:\n",
    "# M.shape = (2, 3)\n",
    "# a.shape = (3,)\n",
    "# We see by rule 1 that the array a has fewer dimensions, so we pad it on the left with\n",
    "# ones:\n",
    "# M.shape -> (2, 3)\n",
    "# a.shape -> (1, 3)\n",
    "# By rule 2, we now see that the first dimension disagrees, so we stretch this dimension\n",
    "# to match:\n",
    "# M.shape -> (2, 3)\n",
    "# a.shape -> (2, 3)\n",
    "# The shapes match, and we see that the final shape will be (2, 3) :\n",
    "\n",
    "M+a"
   ]
  },
  {
   "cell_type": "code",
   "execution_count": 120,
   "id": "1de5a3e8-6744-4889-ad89-32b4028e52b3",
   "metadata": {},
   "outputs": [
    {
     "name": "stdout",
     "output_type": "stream",
     "text": [
      "[[0]\n",
      " [1]\n",
      " [2]]\n",
      "[0 1 2]\n"
     ]
    },
    {
     "data": {
      "text/plain": [
       "array([[0, 1, 2],\n",
       "       [1, 2, 3],\n",
       "       [2, 3, 4]])"
      ]
     },
     "execution_count": 120,
     "metadata": {},
     "output_type": "execute_result"
    }
   ],
   "source": [
    "# Let’s take a look at an example where both arrays need to be broadcast:\n",
    "a = np.arange(3).reshape((3,1))\n",
    "print(a)\n",
    "b = np.arange(3)\n",
    "print(b)\n",
    "# Again, we’ll start by writing out the shape of the arrays:\n",
    "\n",
    "# a.shape = (3, 1)\n",
    "# b.shape = (3,)\n",
    "# |\n",
    "# Rule 1 says we must pad the shape of b with ones:\n",
    "# a.shape -> (3, 1)\n",
    "# b.shape -> (1, 3)\n",
    "# And rule 2 tells us that we upgrade each of these ones to match the corresponding\n",
    "# size of the other array:\n",
    "# a.shape -> (3, 3)\n",
    "# b.shape -> (3, 3)\n",
    "# Because the result matches, these shapes are compatible. We can see this here:\n",
    "a+b\n"
   ]
  },
  {
   "cell_type": "code",
   "execution_count": 121,
   "id": "161efbd0-0821-4580-bef7-2283b02954e9",
   "metadata": {},
   "outputs": [
    {
     "name": "stdout",
     "output_type": "stream",
     "text": [
      "[[1. 1.]\n",
      " [1. 1.]\n",
      " [1. 1.]]\n",
      "[0 1 2]\n"
     ]
    }
   ],
   "source": [
    "# Now let’s take a look at an example in which the two arrays are not compatible:\n",
    "\n",
    "M = np.ones((3,2))\n",
    "print(M)\n",
    "a = np.arange(3)\n",
    "print(a)\n",
    "\n",
    "# This is just a slightly different situation than in the first example: the matrix M is\n",
    "# transposed. How does this affect the calculation? The shapes of the arrays are:\n",
    "# M.shape = (3, 2)\n",
    "# a.shape = (3,)\n",
    "# Again, rule 1 tells us that we must pad the shape of a with ones:\n",
    "# M.shape -> (3, 2)\n",
    "# a.shape -> (1, 3)\n",
    "# By rule 2, the first dimension of a is stretched to match that of M :\n",
    "# M.shape -> (3, 2)\n",
    "# a.shape -> (3, 3)\n",
    "# Now we hit rule 3—the final shapes do not match, so these two arrays are incompati‐\n",
    "# ble, as we can observe by attempting this operation:\n",
    "\n",
    "# print(M+a) #ERROR! operands could not be broadcast together with shapes"
   ]
  },
  {
   "cell_type": "code",
   "execution_count": 122,
   "id": "e802e3a2-8e12-41b6-b061-ed36458d5661",
   "metadata": {},
   "outputs": [
    {
     "name": "stdout",
     "output_type": "stream",
     "text": [
      "(3, 1)\n"
     ]
    },
    {
     "data": {
      "text/plain": [
       "array([[1., 1.],\n",
       "       [2., 2.],\n",
       "       [3., 3.]])"
      ]
     },
     "execution_count": 122,
     "metadata": {},
     "output_type": "execute_result"
    }
   ],
   "source": [
    "print(a[:, np.newaxis].shape)\n",
    "M + a[:, np.newaxis]"
   ]
  },
  {
   "cell_type": "markdown",
   "id": "2572d12a-fd32-42f1-96fd-a4e85495ba9b",
   "metadata": {},
   "source": [
    "Comparisons, Masks, and Boolean Logic¶\n",
    "\n",
    "\n",
    "Comparison Operators as ufuncs\n",
    "The result of these comparison operators is always an array with a Boolean data type. All six of the standard comparison operations are available:\n",
    "\n",
    "for example, you might wish to count all values greater than a certain value, or perhaps remove all outliers that are above some threshold. In NumPy, Boolean masking is often the most efficient way to accomplish these types of tasks."
   ]
  },
  {
   "cell_type": "code",
   "execution_count": 123,
   "id": "32c21371-2b52-4b1f-ba8e-e6acb0af5905",
   "metadata": {},
   "outputs": [
    {
     "name": "stdout",
     "output_type": "stream",
     "text": [
      "[ True  True False False False]\n",
      "[False False False  True  True]\n",
      "[ True  True  True False False]\n",
      "[False False  True  True  True]\n",
      "[ True  True False  True  True]\n",
      "[False False  True False False]\n"
     ]
    }
   ],
   "source": [
    "x = np.array([1,2,3,4,5])\n",
    "\n",
    "print(x<3)  # less than\n",
    "print(x>3)  # greater than\n",
    "print(x<=3) #less than or equal\n",
    "print(x>=3) #greater than or equal\n",
    "print(x!=3) #not equal\n",
    "print(x==3) #equal"
   ]
  },
  {
   "cell_type": "code",
   "execution_count": 124,
   "id": "e4daf7c9-91f4-404b-8803-ceb2eec4106a",
   "metadata": {},
   "outputs": [
    {
     "data": {
      "text/plain": [
       "array([ True,  True, False, False, False])"
      ]
     },
     "execution_count": 124,
     "metadata": {},
     "output_type": "execute_result"
    }
   ],
   "source": [
    "# It is also possible to do an element-by-element comparison of two arrays, and to\n",
    "# include compound expressions:\n",
    "\n",
    "(2*x) == (2**x)"
   ]
  },
  {
   "cell_type": "markdown",
   "id": "407057ae-041b-4c5b-8d06-65cfa5431c84",
   "metadata": {},
   "source": [
    " As in the case of arithmetic operators, the comparison operators are implemented as\n",
    " ufuncs in NumPy; for example, when you write x < 3 , internally NumPy uses\n",
    " np.less(x, 3) . A summary of the comparison operators and their equivalent ufunc\n",
    " is shown here:"
   ]
  },
  {
   "attachments": {
    "6ae1e6b9-e358-441b-b327-0db4b4b45e52.png": {
     "image/png": "[encoded data removed]"
    }
   },
   "cell_type": "markdown",
   "id": "0ba2d36a-1797-434f-ad14-7a3b3031fa7f",
   "metadata": {},
   "source": [
    "![4229_2.png](attachment:6ae1e6b9-e358-441b-b327-0db4b4b45e52.png)"
   ]
  },
  {
   "cell_type": "code",
   "execution_count": 125,
   "id": "5b6c1abb-eb7c-445a-8324-dc38bf4127ed",
   "metadata": {},
   "outputs": [
    {
     "name": "stdout",
     "output_type": "stream",
     "text": [
      "[[5 0 3 3]\n",
      " [7 9 3 5]\n",
      " [2 4 7 6]]\n"
     ]
    },
    {
     "data": {
      "text/plain": [
       "array([[ True,  True,  True,  True],\n",
       "       [False, False,  True,  True],\n",
       "       [ True,  True, False, False]])"
      ]
     },
     "execution_count": 125,
     "metadata": {},
     "output_type": "execute_result"
    }
   ],
   "source": [
    "rng = np.random.RandomState(seed=0)\n",
    "x = rng.randint(10, size=(3,4))\n",
    "print(x)\n",
    "\n",
    "x<6"
   ]
  },
  {
   "cell_type": "code",
   "execution_count": 126,
   "id": "662bcf01-daa9-43f1-baec-45a0979d35e4",
   "metadata": {},
   "outputs": [],
   "source": [
    "# Working with Boolean Arrays"
   ]
  },
  {
   "cell_type": "code",
   "execution_count": 127,
   "id": "66542b2d-7b63-404a-acc5-3f50dad3d3f7",
   "metadata": {},
   "outputs": [
    {
     "name": "stdout",
     "output_type": "stream",
     "text": [
      "[[5 0 3 3]\n",
      " [7 9 3 5]\n",
      " [2 4 7 6]]\n",
      "1-:  8\n",
      "2-:  8\n",
      "3-:  12\n",
      "4-:  12\n"
     ]
    }
   ],
   "source": [
    "print(x)\n",
    "\n",
    "# To count the number of True entries in a Boolean array, np.count_nonzero is useful:\n",
    "\n",
    "# how many values less than 6?\n",
    "print(\"1-: \",np.count_nonzero(x<6))\n",
    "\n",
    "# We see that there are eight array entries that are less than 6. Another way to get at this\n",
    "# information is to use np.sum ; in this case, False is interpreted as 0 , and True is inter‐\n",
    "# preted as 1 :\n",
    "\n",
    "print(\"2-: \",np.sum(x<6))\n",
    "\n",
    "print(\"3-: \",np.sum(x!=np.nan))\n",
    "print(\"4-: \",np.count_nonzero(x!=np.nan))"
   ]
  },
  {
   "cell_type": "code",
   "execution_count": 128,
   "id": "03f56604-25d7-40c9-aaf7-bcd0b386fe5f",
   "metadata": {},
   "outputs": [
    {
     "name": "stdout",
     "output_type": "stream",
     "text": [
      "[4 2 2]\n",
      "[2 2 2 2]\n"
     ]
    }
   ],
   "source": [
    "# how many values less than 6 in each row?\n",
    "print(np.sum(x < 6, axis=1))\n",
    "\n",
    "# how many values less than 6 in each column?\n",
    "print(np.sum(x < 6, axis=0))"
   ]
  },
  {
   "cell_type": "code",
   "execution_count": 129,
   "id": "23c1335b-d536-49f8-b24c-db5d7ea1769b",
   "metadata": {},
   "outputs": [
    {
     "name": "stdout",
     "output_type": "stream",
     "text": [
      "True\n",
      "False\n",
      "True\n",
      "False\n"
     ]
    }
   ],
   "source": [
    "# If we’re interested in quickly checking whether any or all the values are true, we can\n",
    "# use (you guessed it) np.any() or np.all() :\n",
    "\n",
    "# are there any values greater than 8?\n",
    "print(np.any(x>8))\n",
    "\n",
    "# are there any values less than zero?\n",
    "print(np.any(x<0))\n",
    "\n",
    "# are all values less than 10?\n",
    "print(np.all(x<10))\n",
    "\n",
    "# are all values equal to 6?\n",
    "print(np.all(x==6))"
   ]
  },
  {
   "cell_type": "code",
   "execution_count": 130,
   "id": "8f587a64-ce15-4af9-b729-1b44e523bb9f",
   "metadata": {},
   "outputs": [
    {
     "name": "stdout",
     "output_type": "stream",
     "text": [
      "[ True False  True]\n",
      "[False False False False]\n"
     ]
    }
   ],
   "source": [
    "# are all values in each row less than 8?\n",
    "print(np.all(x<8, axis=1))\n",
    "\n",
    "# are all values in each column less than 3?\n",
    "print(np.all(x<3, axis=0))"
   ]
  },
  {
   "cell_type": "code",
   "execution_count": 131,
   "id": "bcc59c9e-5e26-43ff-b1de-95901a78f846",
   "metadata": {},
   "outputs": [
    {
     "name": "stdout",
     "output_type": "stream",
     "text": [
      "[[5 0 3 3]\n",
      " [7 9 3 5]\n",
      " [2 4 7 6]]\n",
      "[[False  True  True  True]\n",
      " [False False  True False]\n",
      " [ True  True False False]]\n",
      "[0 3 3 3 2 4]\n"
     ]
    }
   ],
   "source": [
    "print(x)\n",
    "print(x<5)\n",
    "print(x[x<5])"
   ]
  },
  {
   "cell_type": "code",
   "execution_count": 132,
   "id": "216d1736-5f9e-4dd7-ae86-efe5802ddfbe",
   "metadata": {},
   "outputs": [
    {
     "data": {
      "text/plain": [
       "(True, False, True)"
      ]
     },
     "execution_count": 132,
     "metadata": {},
     "output_type": "execute_result"
    }
   ],
   "source": [
    "# In Python, all nonzero integers will evaluate as True .\n",
    "bool(42), bool(0), bool(-1)"
   ]
  },
  {
   "cell_type": "code",
   "execution_count": 133,
   "id": "0e259c89-5b72-452a-8c5d-05eb4f186288",
   "metadata": {},
   "outputs": [
    {
     "data": {
      "text/plain": [
       "False"
      ]
     },
     "execution_count": 133,
     "metadata": {},
     "output_type": "execute_result"
    }
   ],
   "source": [
    "bool(42 and 0)"
   ]
  },
  {
   "cell_type": "code",
   "execution_count": 134,
   "id": "b282454b-4f9d-4a69-94de-ada95cf6c76f",
   "metadata": {},
   "outputs": [
    {
     "data": {
      "text/plain": [
       "True"
      ]
     },
     "execution_count": 134,
     "metadata": {},
     "output_type": "execute_result"
    }
   ],
   "source": [
    "bool(42 or 0)"
   ]
  },
  {
   "cell_type": "code",
   "execution_count": 135,
   "id": "9cb6b855-1f24-41a9-876c-0f5f1ad7e55d",
   "metadata": {},
   "outputs": [
    {
     "data": {
      "text/plain": [
       "array([ True,  True,  True, False,  True,  True])"
      ]
     },
     "execution_count": 135,
     "metadata": {},
     "output_type": "execute_result"
    }
   ],
   "source": [
    "# When you have an array of Boolean values in NumPy, this can be thought of as a\n",
    "# string of bits where 1 = True and 0 = False , and the result of & and | operates in a\n",
    "# similar manner as before:\n",
    "\n",
    "A = np.array([1, 0, 1, 0, 1, 0], dtype=bool)\n",
    "B = np.array([1, 1, 1, 0, 1, 1], dtype=bool)\n",
    "A | B"
   ]
  },
  {
   "cell_type": "code",
   "execution_count": 136,
   "id": "7d0d2408-f32b-4aa8-b407-78651d8804a9",
   "metadata": {},
   "outputs": [
    {
     "data": {
      "text/plain": [
       "array([False, False, False, False, False,  True,  True,  True, False,\n",
       "       False])"
      ]
     },
     "execution_count": 136,
     "metadata": {},
     "output_type": "execute_result"
    }
   ],
   "source": [
    "x = np.arange(10)\n",
    "(x > 4) & (x < 8)"
   ]
  },
  {
   "cell_type": "markdown",
   "id": "9bc96ec9-73e9-471c-bf87-702d2db607d2",
   "metadata": {},
   "source": [
    "Fancy Indexing"
   ]
  },
  {
   "cell_type": "code",
   "execution_count": 137,
   "id": "6b188fca-f762-4d7c-83eb-eb40ca771404",
   "metadata": {},
   "outputs": [
    {
     "name": "stdout",
     "output_type": "stream",
     "text": [
      "[51 92 14 71 60 20 82 86 74 74]\n"
     ]
    }
   ],
   "source": [
    "import numpy as np\n",
    "\n",
    "rand = np.random.RandomState(42)\n",
    "x = rand.randint(100, size=10)\n",
    "print(x)"
   ]
  },
  {
   "cell_type": "code",
   "execution_count": 138,
   "id": "40ed7140-0d65-451a-bb5b-7a935ce5b095",
   "metadata": {},
   "outputs": [
    {
     "data": {
      "text/plain": [
       "[np.int64(71), np.int64(86), np.int64(14)]"
      ]
     },
     "execution_count": 138,
     "metadata": {},
     "output_type": "execute_result"
    }
   ],
   "source": [
    "[x[3],x[7],x[2]]"
   ]
  },
  {
   "cell_type": "code",
   "execution_count": 139,
   "id": "d986dd1e-27f3-40e4-a665-d9148350b4cf",
   "metadata": {},
   "outputs": [
    {
     "data": {
      "text/plain": [
       "array([71, 86, 60])"
      ]
     },
     "execution_count": 139,
     "metadata": {},
     "output_type": "execute_result"
    }
   ],
   "source": [
    "ind = [3,7,4]\n",
    "x[ind]"
   ]
  },
  {
   "cell_type": "code",
   "execution_count": 140,
   "id": "fb84622f-8eae-40fc-bb84-ebdf9dc17429",
   "metadata": {},
   "outputs": [
    {
     "data": {
      "text/plain": [
       "array([[71, 86],\n",
       "       [60, 20]])"
      ]
     },
     "execution_count": 140,
     "metadata": {},
     "output_type": "execute_result"
    }
   ],
   "source": [
    "ind = np.array([[3, 7],\n",
    "                [4, 5]])\n",
    "x[ind]"
   ]
  },
  {
   "cell_type": "code",
   "execution_count": 141,
   "id": "c6b25543-d1d5-46bb-94f7-21cea12302b7",
   "metadata": {},
   "outputs": [
    {
     "data": {
      "text/plain": [
       "array([[ 0,  1,  2,  3],\n",
       "       [ 4,  5,  6,  7],\n",
       "       [ 8,  9, 10, 11]])"
      ]
     },
     "execution_count": 141,
     "metadata": {},
     "output_type": "execute_result"
    }
   ],
   "source": [
    "X = np.arange(12).reshape((3,4))\n",
    "X"
   ]
  },
  {
   "cell_type": "code",
   "execution_count": 142,
   "id": "8755fb59-33e2-4115-9abf-da17a8c98fdf",
   "metadata": {},
   "outputs": [
    {
     "data": {
      "text/plain": [
       "array([ 2,  5, 11])"
      ]
     },
     "execution_count": 142,
     "metadata": {},
     "output_type": "execute_result"
    }
   ],
   "source": [
    "row = np.array([0,1,2])\n",
    "col = np.array([2,1,3])\n",
    "X[row,col]"
   ]
  },
  {
   "cell_type": "code",
   "execution_count": 143,
   "id": "8547f830-d6d7-4596-a1df-e66722407da0",
   "metadata": {},
   "outputs": [
    {
     "data": {
      "text/plain": [
       "array([[ 2,  1,  3],\n",
       "       [ 6,  5,  7],\n",
       "       [10,  9, 11]])"
      ]
     },
     "execution_count": 143,
     "metadata": {},
     "output_type": "execute_result"
    }
   ],
   "source": [
    "X[row[:, np.newaxis], col] #row[:, np.newaxis].shape (3,1)"
   ]
  },
  {
   "cell_type": "code",
   "execution_count": 144,
   "id": "a23688c9-aaad-4772-9659-b2b1e37bc658",
   "metadata": {},
   "outputs": [
    {
     "data": {
      "text/plain": [
       "array([[0, 0, 0],\n",
       "       [2, 1, 3],\n",
       "       [4, 2, 6]])"
      ]
     },
     "execution_count": 144,
     "metadata": {},
     "output_type": "execute_result"
    }
   ],
   "source": [
    "# Here, each row value is matched with each column vector, exactly as we saw in broad‐\n",
    "# casting of arithmetic operations. For example:\n",
    "\n",
    "row[:, np.newaxis] * col"
   ]
  },
  {
   "cell_type": "markdown",
   "id": "254a4e1a-2d9f-4ce9-b345-4c2947923bfb",
   "metadata": {},
   "source": [
    "\n",
    "Combined Indexing"
   ]
  },
  {
   "cell_type": "code",
   "execution_count": 145,
   "id": "480ca88b-3bab-4652-8e2a-215b65c5458e",
   "metadata": {},
   "outputs": [
    {
     "name": "stdout",
     "output_type": "stream",
     "text": [
      "[[ 0  1  2  3]\n",
      " [ 4  5  6  7]\n",
      " [ 8  9 10 11]]\n"
     ]
    }
   ],
   "source": [
    "print(X)"
   ]
  },
  {
   "cell_type": "code",
   "execution_count": 146,
   "id": "baf46dbf-9c8c-422f-9155-95c83b97cc85",
   "metadata": {},
   "outputs": [
    {
     "data": {
      "text/plain": [
       "array([10,  8,  9])"
      ]
     },
     "execution_count": 146,
     "metadata": {},
     "output_type": "execute_result"
    }
   ],
   "source": [
    "X[2,[2,0,1]]"
   ]
  },
  {
   "cell_type": "code",
   "execution_count": 147,
   "id": "87efd8aa-9bb0-4ea2-99d8-fc8dc0b3f599",
   "metadata": {},
   "outputs": [
    {
     "data": {
      "text/plain": [
       "array([[ 6,  4,  5],\n",
       "       [10,  8,  9]])"
      ]
     },
     "execution_count": 147,
     "metadata": {},
     "output_type": "execute_result"
    }
   ],
   "source": [
    "X[1:, [2, 0, 1]]"
   ]
  },
  {
   "cell_type": "code",
   "execution_count": 148,
   "id": "b054d185-1774-41bd-89b5-b407d2197c81",
   "metadata": {},
   "outputs": [
    {
     "data": {
      "text/plain": [
       "array([[ 0,  2],\n",
       "       [ 4,  6],\n",
       "       [ 8, 10]])"
      ]
     },
     "execution_count": 148,
     "metadata": {},
     "output_type": "execute_result"
    }
   ],
   "source": [
    "mask = np.array([1, 0, 1, 0], dtype=bool)\n",
    "X[row[:, np.newaxis], mask]  # mask 0 and 2 indixes are true!"
   ]
  },
  {
   "cell_type": "markdown",
   "id": "8de02c81-cccb-4435-80cc-53128b35fa9c",
   "metadata": {},
   "source": [
    "Modifying Values with Fancy Indexing"
   ]
  },
  {
   "cell_type": "code",
   "execution_count": 149,
   "id": "369e6b06-08e4-4f7d-b4c1-d5e05f8efe96",
   "metadata": {},
   "outputs": [
    {
     "name": "stdout",
     "output_type": "stream",
     "text": [
      "[ 0 99 99  3 99  5  6  7 99  9]\n"
     ]
    }
   ],
   "source": [
    "x = np.arange(10)\n",
    "i = np.array([2,1,8,4])\n",
    "x[i] = 99\n",
    "print(x)"
   ]
  },
  {
   "cell_type": "code",
   "execution_count": 150,
   "id": "8fe9e9b9-6aaf-458d-a60a-65d837bf6f12",
   "metadata": {},
   "outputs": [
    {
     "name": "stdout",
     "output_type": "stream",
     "text": [
      "[ 0 89 89  3 89  5  6  7 89  9]\n"
     ]
    }
   ],
   "source": [
    "x[i] -= 10\n",
    "print(x)"
   ]
  },
  {
   "cell_type": "code",
   "execution_count": 151,
   "id": "2c42ad79-78c4-4006-9b50-bf5e02adef20",
   "metadata": {},
   "outputs": [
    {
     "name": "stdout",
     "output_type": "stream",
     "text": [
      "[4. 0. 6. 0. 0. 0. 0. 0. 0. 0.]\n"
     ]
    }
   ],
   "source": [
    "x = np.zeros(10)\n",
    "x[[0, 2]] = [4, 6]\n",
    "print(x)"
   ]
  },
  {
   "cell_type": "code",
   "execution_count": 152,
   "id": "e1f86ef5-8e40-469f-b508-82d8c64c1c07",
   "metadata": {},
   "outputs": [
    {
     "name": "stdout",
     "output_type": "stream",
     "text": [
      "[6. 0. 0. 0. 0. 0. 0. 0. 0. 0.]\n"
     ]
    }
   ],
   "source": [
    "x = np.zeros(10)\n",
    "x[[0, 0]] = [4, 6]\n",
    "print(x)\n",
    "\n",
    "# Where did the 4 go? The result of this operation is to first assign x[0] = 4 , followed\n",
    "# by x[0] = 6 . The result, of course, is that x[0] contains the value 6."
   ]
  },
  {
   "cell_type": "code",
   "execution_count": 153,
   "id": "da5e8c4e-a771-4c0e-b8d3-ac77a5f534e7",
   "metadata": {
    "scrolled": true
   },
   "outputs": [
    {
     "data": {
      "text/plain": [
       "array([6., 0., 1., 1., 1., 0., 0., 0., 0., 0.])"
      ]
     },
     "execution_count": 153,
     "metadata": {},
     "output_type": "execute_result"
    }
   ],
   "source": [
    "i = [2, 3, 3, 4, 4, 4]\n",
    "x[i] += 1\n",
    "x"
   ]
  },
  {
   "cell_type": "code",
   "execution_count": 154,
   "id": "f5358151-764f-4065-b2dd-5d12864f5831",
   "metadata": {},
   "outputs": [
    {
     "name": "stdout",
     "output_type": "stream",
     "text": [
      "[0. 0. 1. 2. 3. 0. 0. 0. 0. 0.]\n"
     ]
    }
   ],
   "source": [
    "x = np.zeros(10)\n",
    "np.add.at(x, i, 1)\n",
    "print(x)"
   ]
  },
  {
   "cell_type": "markdown",
   "id": "33c7b0fd-e46a-412d-a97c-2cb9d869e7ef",
   "metadata": {},
   "source": [
    "Sorting Arrays¶"
   ]
  },
  {
   "cell_type": "markdown",
   "id": "dc555f04-baaf-4b20-bfce-ebfc1056db98",
   "metadata": {},
   "source": [
    "Fast Sorting in NumPy: np.sort and np.argsort"
   ]
  },
  {
   "cell_type": "code",
   "execution_count": 155,
   "id": "189a3819-8a72-493f-9124-7ff0d9ec808c",
   "metadata": {},
   "outputs": [
    {
     "data": {
      "text/plain": [
       "array([1, 2, 3, 4, 5])"
      ]
     },
     "execution_count": 155,
     "metadata": {},
     "output_type": "execute_result"
    }
   ],
   "source": [
    "x = np.array([2,1,4,3,5])\n",
    "np.sort(x)"
   ]
  },
  {
   "cell_type": "code",
   "execution_count": 156,
   "id": "0cf8b99b-75b7-4a26-a51f-e1a9983acd7a",
   "metadata": {},
   "outputs": [
    {
     "name": "stdout",
     "output_type": "stream",
     "text": [
      "[1 2 3 4 5]\n"
     ]
    }
   ],
   "source": [
    "x.sort()\n",
    "print(x)"
   ]
  },
  {
   "cell_type": "code",
   "execution_count": 157,
   "id": "98697df7-6c7d-434b-b42a-863ff41b7004",
   "metadata": {},
   "outputs": [
    {
     "name": "stdout",
     "output_type": "stream",
     "text": [
      "[1 0 3 2 4]\n"
     ]
    },
    {
     "data": {
      "text/plain": [
       "array([1, 2, 3, 4, 5])"
      ]
     },
     "execution_count": 157,
     "metadata": {},
     "output_type": "execute_result"
    }
   ],
   "source": [
    "#return indices\n",
    "x = np.array([2,1,4,3,5])\n",
    "i = np.argsort(x)\n",
    "print(i)\n",
    "\n",
    "x[i]"
   ]
  },
  {
   "cell_type": "markdown",
   "id": "24dbcf4d-cca6-47d0-bfd9-eefc599b9df0",
   "metadata": {},
   "source": [
    "Sorting along rows or columns"
   ]
  },
  {
   "cell_type": "code",
   "execution_count": 159,
   "id": "92852f42-4c08-4ac1-89ab-8457d9280212",
   "metadata": {},
   "outputs": [
    {
     "name": "stdout",
     "output_type": "stream",
     "text": [
      "[[6 3 7 4 6 9]\n",
      " [2 6 7 4 3 7]\n",
      " [7 2 5 4 1 7]\n",
      " [5 1 4 0 9 5]]\n"
     ]
    }
   ],
   "source": [
    "# A useful feature of NumPy’s sorting algorithms is the ability to sort along specific\n",
    "# rows or columns of a multidimensional array using the axis argument. For example:\n",
    "\n",
    "rand = np.random.RandomState(42)\n",
    "X = rand.randint(0,10,(4,6))\n",
    "print(X)"
   ]
  },
  {
   "cell_type": "code",
   "execution_count": 160,
   "id": "0af68ff0-96ab-4a19-8051-79c08252ffb8",
   "metadata": {},
   "outputs": [
    {
     "data": {
      "text/plain": [
       "array([[2, 1, 4, 0, 1, 5],\n",
       "       [5, 2, 5, 4, 3, 7],\n",
       "       [6, 3, 7, 4, 6, 7],\n",
       "       [7, 6, 7, 4, 9, 9]])"
      ]
     },
     "execution_count": 160,
     "metadata": {},
     "output_type": "execute_result"
    }
   ],
   "source": [
    "# sort each column of X\n",
    "\n",
    "np.sort(X, axis=0)"
   ]
  },
  {
   "cell_type": "code",
   "execution_count": 161,
   "id": "06cec93d-705d-488d-99a4-532950f1f25d",
   "metadata": {},
   "outputs": [
    {
     "data": {
      "text/plain": [
       "array([[3, 4, 6, 6, 7, 9],\n",
       "       [2, 3, 4, 6, 7, 7],\n",
       "       [1, 2, 4, 5, 7, 7],\n",
       "       [0, 1, 4, 5, 5, 9]])"
      ]
     },
     "execution_count": 161,
     "metadata": {},
     "output_type": "execute_result"
    }
   ],
   "source": [
    "# sort each row of X\n",
    "\n",
    "np.sort(X, axis=1)"
   ]
  },
  {
   "cell_type": "markdown",
   "id": "790799cd-4131-4b7e-a34f-07be42195a63",
   "metadata": {},
   "source": [
    "Partial Sorts: Partitioning"
   ]
  },
  {
   "cell_type": "code",
   "execution_count": 163,
   "id": "516f2dd3-de01-4a8e-927c-dbd38a051707",
   "metadata": {},
   "outputs": [
    {
     "data": {
      "text/plain": [
       "array([2, 3, 1, 4, 6, 5, 7])"
      ]
     },
     "execution_count": 163,
     "metadata": {},
     "output_type": "execute_result"
    }
   ],
   "source": [
    "# Note that the first three values in the resulting array are the three smallest in the\n",
    "# array, and the remaining array positions contain the remaining values. Within the\n",
    "# two partitions, the elements have arbitrary order.\n",
    "\n",
    "x = np.array([7, 2, 1, 3, 6, 5, 4])\n",
    "np.partition(x, 3)"
   ]
  },
  {
   "cell_type": "code",
   "execution_count": 164,
   "id": "22d8b7c4-ec51-46cd-8769-403507ccc5d5",
   "metadata": {},
   "outputs": [
    {
     "data": {
      "text/plain": [
       "array([[3, 4, 6, 7, 6, 9],\n",
       "       [2, 3, 4, 7, 6, 7],\n",
       "       [1, 2, 4, 5, 7, 7],\n",
       "       [0, 1, 4, 5, 9, 5]])"
      ]
     },
     "execution_count": 164,
     "metadata": {},
     "output_type": "execute_result"
    }
   ],
   "source": [
    "# The result is an array where the first two slots in each row contain the smallest values\n",
    "# from that row, with the remaining values filling the remaining slots.\n",
    "\n",
    "np.partition(X, 2, axis=1)"
   ]
  },
  {
   "cell_type": "code",
   "execution_count": 165,
   "id": "ca091d99-bcf4-4c7d-aaef-6cf539606454",
   "metadata": {},
   "outputs": [
    {
     "data": {
      "text/plain": [
       "array([[2, 1, 4, 0, 1, 5],\n",
       "       [5, 2, 5, 4, 3, 7],\n",
       "       [6, 3, 7, 4, 6, 7],\n",
       "       [7, 6, 7, 4, 9, 9]])"
      ]
     },
     "execution_count": 165,
     "metadata": {},
     "output_type": "execute_result"
    }
   ],
   "source": [
    "np.partition(X, 2, axis=0)"
   ]
  },
  {
   "cell_type": "code",
   "execution_count": 166,
   "id": "31501ab2-9882-4a3e-8d4c-ebefd79d9207",
   "metadata": {},
   "outputs": [
    {
     "name": "stdout",
     "output_type": "stream",
     "text": [
      "[[6 3 7 4 6 9]\n",
      " [2 6 7 4 3 7]\n",
      " [7 2 5 4 1 7]\n",
      " [5 1 4 0 9 5]]\n"
     ]
    }
   ],
   "source": [
    "print(X)"
   ]
  },
  {
   "cell_type": "code",
   "execution_count": 168,
   "id": "d8eaac9e-23e3-4942-9d5a-44f728bede41",
   "metadata": {},
   "outputs": [
    {
     "data": {
      "text/plain": [
       "array([[1, 3, 0, 2, 4, 5],\n",
       "       [0, 4, 3, 2, 1, 5],\n",
       "       [4, 1, 3, 2, 0, 5],\n",
       "       [3, 1, 2, 0, 4, 5]])"
      ]
     },
     "execution_count": 168,
     "metadata": {},
     "output_type": "execute_result"
    }
   ],
   "source": [
    "np.argpartition(X, 2, axis=1)"
   ]
  },
  {
   "cell_type": "code",
   "execution_count": 169,
   "id": "1075f8b2-2a8a-44b3-b30f-c210b9ee8788",
   "metadata": {},
   "outputs": [
    {
     "data": {
      "text/plain": [
       "array([[1, 3, 3, 3, 2, 3],\n",
       "       [3, 2, 2, 1, 1, 1],\n",
       "       [0, 0, 1, 2, 0, 2],\n",
       "       [2, 1, 0, 0, 3, 0]])"
      ]
     },
     "execution_count": 169,
     "metadata": {},
     "output_type": "execute_result"
    }
   ],
   "source": [
    "np.argpartition(X, 2, axis=0)"
   ]
  },
  {
   "cell_type": "code",
   "execution_count": null,
   "id": "84b798f6-8d0a-40cf-93fa-9e6c315ee7a0",
   "metadata": {},
   "outputs": [],
   "source": []
  }
 ],
 "metadata": {
  "kernelspec": {
   "display_name": "Python [conda env:base] *",
   "language": "python",
   "name": "conda-base-py"
  },
  "language_info": {
   "codemirror_mode": {
    "name": "ipython",
    "version": 3
   },
   "file_extension": ".py",
   "mimetype": "text/x-python",
   "name": "python",
   "nbconvert_exporter": "python",
   "pygments_lexer": "ipython3",
   "version": "3.13.5"
  }
 },
 "nbformat": 4,
 "nbformat_minor": 5
}
